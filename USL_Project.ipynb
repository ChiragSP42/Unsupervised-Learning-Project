{
  "nbformat": 4,
  "nbformat_minor": 0,
  "metadata": {
    "colab": {
      "provenance": [],
      "collapsed_sections": [
        "MC-BiP_mdtxP",
        "SuSoOlSMdvqk",
        "m7qtN0bjeJLP",
        "m_NjJXbrefYl",
        "LG5xirOagp7e",
        "pYk28TgxBqGG",
        "IX54SF4lvWUy",
        "8_QaVU9PwHkQ",
        "sB1ANjhhyK6T",
        "3d-T9_RTVHyv",
        "RERpKtu9YrYt",
        "8RuQ3zpVZSNg",
        "0a-dcgRqp7l0",
        "vCfwV43iuR7c"
      ]
    },
    "kernelspec": {
      "name": "python3",
      "display_name": "Python 3"
    },
    "language_info": {
      "name": "python"
    }
  },
  "cells": [
    {
      "cell_type": "code",
      "source": [
        "# Mount drive\n",
        "from google.colab import drive\n",
        "drive.mount('/content/drive')"
      ],
      "metadata": {
        "colab": {
          "base_uri": "https://localhost:8080/"
        },
        "id": "yDxdS6QFcKWg",
        "outputId": "08442f0f-572a-45f8-b591-42e0b38cd229"
      },
      "execution_count": 2,
      "outputs": [
        {
          "output_type": "stream",
          "name": "stdout",
          "text": [
            "Mounted at /content/drive\n"
          ]
        }
      ]
    },
    {
      "cell_type": "code",
      "execution_count": 3,
      "metadata": {
        "id": "a-JTebrabyAf"
      },
      "outputs": [],
      "source": [
        "# Import libraries\n",
        "import numpy as np\n",
        "import pandas as pd\n",
        "import matplotlib.pyplot as plt\n",
        "import seaborn as sns\n",
        "\n",
        "from sklearn.cluster import KMeans\n",
        "from sklearn.svm import SVC\n",
        "from sklearn.decomposition import PCA\n",
        "from sklearn.model_selection import GridSearchCV\n",
        "\n",
        "from scipy.stats import zscore\n",
        "from scipy.spatial.distance import cdist\n",
        "from sklearn.model_selection import train_test_split\n",
        "from sklearn.metrics import classification_report"
      ]
    },
    {
      "cell_type": "markdown",
      "source": [
        "# PART A"
      ],
      "metadata": {
        "id": "QMRmpBZkdHck"
      }
    },
    {
      "cell_type": "markdown",
      "source": [
        "## 1\n"
      ],
      "metadata": {
        "id": "MC-BiP_mdtxP"
      }
    },
    {
      "cell_type": "markdown",
      "source": [
        "### A\n",
        "Reading car name.csv into a dataframe."
      ],
      "metadata": {
        "id": "SuSoOlSMdvqk"
      }
    },
    {
      "cell_type": "code",
      "source": [
        "car_name = pd.read_csv('/content/drive/MyDrive/Great Learning AIML/Unsupervised Learning/Unsupervised Learning Project/Car name.csv')"
      ],
      "metadata": {
        "id": "eF2TzceCdG8A"
      },
      "execution_count": 4,
      "outputs": []
    },
    {
      "cell_type": "code",
      "source": [
        "print(car_name.shape)\n",
        "print(car_name.describe())\n",
        "print(car_name.info())"
      ],
      "metadata": {
        "colab": {
          "base_uri": "https://localhost:8080/"
        },
        "id": "seGQsh5VfuiQ",
        "outputId": "15f095d8-2694-4a63-86b8-0a697b7345e6"
      },
      "execution_count": 5,
      "outputs": [
        {
          "output_type": "stream",
          "name": "stdout",
          "text": [
            "(398, 1)\n",
            "          car_name\n",
            "count          398\n",
            "unique         305\n",
            "top     ford pinto\n",
            "freq             6\n",
            "<class 'pandas.core.frame.DataFrame'>\n",
            "RangeIndex: 398 entries, 0 to 397\n",
            "Data columns (total 1 columns):\n",
            " #   Column    Non-Null Count  Dtype \n",
            "---  ------    --------------  ----- \n",
            " 0   car_name  398 non-null    object\n",
            "dtypes: object(1)\n",
            "memory usage: 3.2+ KB\n",
            "None\n"
          ]
        }
      ]
    },
    {
      "cell_type": "markdown",
      "source": [
        "### B\n",
        "Reading car_attributes.json into a dataframe."
      ],
      "metadata": {
        "id": "m7qtN0bjeJLP"
      }
    },
    {
      "cell_type": "code",
      "source": [
        "car_attr = pd.read_json('/content/drive/MyDrive/Great Learning AIML/Unsupervised Learning/Unsupervised Learning Project/Car attributes.json')"
      ],
      "metadata": {
        "id": "el9BNPLmeAus"
      },
      "execution_count": 6,
      "outputs": []
    },
    {
      "cell_type": "code",
      "source": [
        "print(car_attr.shape)\n",
        "print(car_attr.describe())\n",
        "print(car_attr.info())"
      ],
      "metadata": {
        "colab": {
          "base_uri": "https://localhost:8080/"
        },
        "id": "eeI6PqY0gBSl",
        "outputId": "70c9d433-3a5e-4a75-cf0b-c8bde5a29945"
      },
      "execution_count": 7,
      "outputs": [
        {
          "output_type": "stream",
          "name": "stdout",
          "text": [
            "(398, 8)\n",
            "              mpg         cyl        disp           wt         acc  \\\n",
            "count  398.000000  398.000000  398.000000   398.000000  398.000000   \n",
            "mean    23.514573    5.454774  193.425879  2970.424623   15.568090   \n",
            "std      7.815984    1.701004  104.269838   846.841774    2.757689   \n",
            "min      9.000000    3.000000   68.000000  1613.000000    8.000000   \n",
            "25%     17.500000    4.000000  104.250000  2223.750000   13.825000   \n",
            "50%     23.000000    4.000000  148.500000  2803.500000   15.500000   \n",
            "75%     29.000000    8.000000  262.000000  3608.000000   17.175000   \n",
            "max     46.600000    8.000000  455.000000  5140.000000   24.800000   \n",
            "\n",
            "               yr      origin  \n",
            "count  398.000000  398.000000  \n",
            "mean    76.010050    1.572864  \n",
            "std      3.697627    0.802055  \n",
            "min     70.000000    1.000000  \n",
            "25%     73.000000    1.000000  \n",
            "50%     76.000000    1.000000  \n",
            "75%     79.000000    2.000000  \n",
            "max     82.000000    3.000000  \n",
            "<class 'pandas.core.frame.DataFrame'>\n",
            "RangeIndex: 398 entries, 0 to 397\n",
            "Data columns (total 8 columns):\n",
            " #   Column  Non-Null Count  Dtype  \n",
            "---  ------  --------------  -----  \n",
            " 0   mpg     398 non-null    float64\n",
            " 1   cyl     398 non-null    int64  \n",
            " 2   disp    398 non-null    float64\n",
            " 3   hp      398 non-null    object \n",
            " 4   wt      398 non-null    int64  \n",
            " 5   acc     398 non-null    float64\n",
            " 6   yr      398 non-null    int64  \n",
            " 7   origin  398 non-null    int64  \n",
            "dtypes: float64(3), int64(4), object(1)\n",
            "memory usage: 25.0+ KB\n",
            "None\n"
          ]
        }
      ]
    },
    {
      "cell_type": "markdown",
      "source": [
        "### C\n",
        "Combining both dataframes into one using 'join'."
      ],
      "metadata": {
        "id": "m_NjJXbrefYl"
      }
    },
    {
      "cell_type": "code",
      "source": [
        "car = car_name.join(car_attr, how='outer')"
      ],
      "metadata": {
        "id": "ivyvDooDeb5U"
      },
      "execution_count": 8,
      "outputs": []
    },
    {
      "cell_type": "code",
      "source": [
        "print(car.shape)\n",
        "print(car.describe())\n",
        "print(car.info())"
      ],
      "metadata": {
        "colab": {
          "base_uri": "https://localhost:8080/"
        },
        "id": "9ARlTD7feze1",
        "outputId": "f1f13e68-62e0-442d-8142-7580b418d09e"
      },
      "execution_count": 9,
      "outputs": [
        {
          "output_type": "stream",
          "name": "stdout",
          "text": [
            "(398, 9)\n",
            "              mpg         cyl        disp           wt         acc  \\\n",
            "count  398.000000  398.000000  398.000000   398.000000  398.000000   \n",
            "mean    23.514573    5.454774  193.425879  2970.424623   15.568090   \n",
            "std      7.815984    1.701004  104.269838   846.841774    2.757689   \n",
            "min      9.000000    3.000000   68.000000  1613.000000    8.000000   \n",
            "25%     17.500000    4.000000  104.250000  2223.750000   13.825000   \n",
            "50%     23.000000    4.000000  148.500000  2803.500000   15.500000   \n",
            "75%     29.000000    8.000000  262.000000  3608.000000   17.175000   \n",
            "max     46.600000    8.000000  455.000000  5140.000000   24.800000   \n",
            "\n",
            "               yr      origin  \n",
            "count  398.000000  398.000000  \n",
            "mean    76.010050    1.572864  \n",
            "std      3.697627    0.802055  \n",
            "min     70.000000    1.000000  \n",
            "25%     73.000000    1.000000  \n",
            "50%     76.000000    1.000000  \n",
            "75%     79.000000    2.000000  \n",
            "max     82.000000    3.000000  \n",
            "<class 'pandas.core.frame.DataFrame'>\n",
            "RangeIndex: 398 entries, 0 to 397\n",
            "Data columns (total 9 columns):\n",
            " #   Column    Non-Null Count  Dtype  \n",
            "---  ------    --------------  -----  \n",
            " 0   car_name  398 non-null    object \n",
            " 1   mpg       398 non-null    float64\n",
            " 2   cyl       398 non-null    int64  \n",
            " 3   disp      398 non-null    float64\n",
            " 4   hp        398 non-null    object \n",
            " 5   wt        398 non-null    int64  \n",
            " 6   acc       398 non-null    float64\n",
            " 7   yr        398 non-null    int64  \n",
            " 8   origin    398 non-null    int64  \n",
            "dtypes: float64(3), int64(4), object(2)\n",
            "memory usage: 28.1+ KB\n",
            "None\n"
          ]
        }
      ]
    },
    {
      "cell_type": "markdown",
      "source": [
        "### D\n",
        "Printing the 5-point summary of numerical features and sharing insights."
      ],
      "metadata": {
        "id": "LG5xirOagp7e"
      }
    },
    {
      "cell_type": "code",
      "source": [
        "plt.figure(figsize=(7,7))\n",
        "sns.boxplot(data=car)"
      ],
      "metadata": {
        "colab": {
          "base_uri": "https://localhost:8080/",
          "height": 446
        },
        "id": "WQ1-yBMigpYM",
        "outputId": "dbbef1d3-96fe-4613-fa7e-3af6652f1623"
      },
      "execution_count": 10,
      "outputs": [
        {
          "output_type": "execute_result",
          "data": {
            "text/plain": [
              "<matplotlib.axes._subplots.AxesSubplot at 0x7fd47995f2b0>"
            ]
          },
          "metadata": {},
          "execution_count": 10
        },
        {
          "output_type": "display_data",
          "data": {
            "text/plain": [
              "<Figure size 504x504 with 1 Axes>"
            ],
            "image/png": "[encoded data removed]"
          },
          "metadata": {
            "needs_background": "light"
          }
        }
      ]
    },
    {
      "cell_type": "markdown",
      "source": [
        "So printing the 5-point summary of all variables in one graph clearly isn't practical due to scaling.\n",
        "\n",
        "So let's create subplots and put each feature in a separate graph and see how it looks."
      ],
      "metadata": {
        "id": "_VExLsT2hoRN"
      }
    },
    {
      "cell_type": "code",
      "source": [
        "fig, axes = plt.subplots(4, 2, figsize=(20, 20))\n",
        "\n",
        "sns.boxplot(data=car, x=\"mpg\", ax=axes[0][0])\n",
        "sns.boxplot(data=car, x=\"cyl\", ax=axes[0][1])\n",
        "sns.boxplot(data=car, x=\"disp\", ax=axes[1][0])\n",
        "sns.boxplot(data=car, x=\"wt\", ax=axes[1][1])\n",
        "sns.boxplot(data=car, x=\"acc\", ax=axes[2][0])\n",
        "sns.boxplot(data=car, x=\"yr\", ax=axes[2][1])\n",
        "sns.boxplot(data=car, x=\"origin\", ax=axes[3][0])"
      ],
      "metadata": {
        "colab": {
          "base_uri": "https://localhost:8080/",
          "height": 1000
        },
        "id": "MB6gzvJIgTKd",
        "outputId": "db3e1842-d6f1-49ab-ba18-22b3ca48e425"
      },
      "execution_count": 11,
      "outputs": [
        {
          "output_type": "execute_result",
          "data": {
            "text/plain": [
              "<matplotlib.axes._subplots.AxesSubplot at 0x7fd47927e250>"
            ]
          },
          "metadata": {},
          "execution_count": 11
        },
        {
          "output_type": "display_data",
          "data": {
            "text/plain": [
              "<Figure size 1440x1440 with 8 Axes>"
            ],
            "image/png": "[encoded data removed]"
          },
          "metadata": {
            "needs_background": "light"
          }
        }
      ]
    },
    {
      "cell_type": "markdown",
      "source": [
        "So we see that for \"cyl\" feature, the max whisker coincides with Q3 and also the median.\n",
        "\n",
        "Similarly the \"origin\" feature has its min whisker and Q1 coinciding with median.\n",
        "\n",
        "And for \"acc\" feature there are quite a few number of outliers on both ends."
      ],
      "metadata": {
        "id": "UCEF0Y9InZV9"
      }
    },
    {
      "cell_type": "markdown",
      "source": [
        "## 2\n"
      ],
      "metadata": {
        "id": "LYW1vVSB3ubD"
      }
    },
    {
      "cell_type": "markdown",
      "source": [
        "### A\n",
        "Print the feature-wise percentage of missing values and impute them with a suitable approach "
      ],
      "metadata": {
        "id": "EVoixnP23wih"
      }
    },
    {
      "cell_type": "markdown",
      "source": [
        "Earlier we saw that all features contain 398 values indicating no \"traditional\" missing values, rather either NaN values or unexpected values.\n",
        "\n",
        "Okay so first step is to check for NaN values in each column.\n",
        "Then impute them using mean or median.\n",
        "\n",
        "Next we check for unexpected values. Again, we deal with them and impute using mean, median or mode depending on datatype."
      ],
      "metadata": {
        "id": "rxAfQLXo3-M0"
      }
    },
    {
      "cell_type": "code",
      "source": [
        "isNa = car.isna()"
      ],
      "metadata": {
        "id": "S8bM2vwl3-cn"
      },
      "execution_count": 12,
      "outputs": []
    },
    {
      "cell_type": "code",
      "source": [
        "car.describe(include='all')"
      ],
      "metadata": {
        "colab": {
          "base_uri": "https://localhost:8080/",
          "height": 394
        },
        "id": "cvRihvxY-Yk_",
        "outputId": "4c3f9f0b-a3d7-408f-abc4-b217756add41"
      },
      "execution_count": 13,
      "outputs": [
        {
          "output_type": "execute_result",
          "data": {
            "text/plain": [
              "          car_name         mpg         cyl        disp     hp           wt  \\\n",
              "count          398  398.000000  398.000000  398.000000  398.0   398.000000   \n",
              "unique         305         NaN         NaN         NaN   94.0          NaN   \n",
              "top     ford pinto         NaN         NaN         NaN  150.0          NaN   \n",
              "freq             6         NaN         NaN         NaN   22.0          NaN   \n",
              "mean           NaN   23.514573    5.454774  193.425879    NaN  2970.424623   \n",
              "std            NaN    7.815984    1.701004  104.269838    NaN   846.841774   \n",
              "min            NaN    9.000000    3.000000   68.000000    NaN  1613.000000   \n",
              "25%            NaN   17.500000    4.000000  104.250000    NaN  2223.750000   \n",
              "50%            NaN   23.000000    4.000000  148.500000    NaN  2803.500000   \n",
              "75%            NaN   29.000000    8.000000  262.000000    NaN  3608.000000   \n",
              "max            NaN   46.600000    8.000000  455.000000    NaN  5140.000000   \n",
              "\n",
              "               acc          yr      origin  \n",
              "count   398.000000  398.000000  398.000000  \n",
              "unique         NaN         NaN         NaN  \n",
              "top            NaN         NaN         NaN  \n",
              "freq           NaN         NaN         NaN  \n",
              "mean     15.568090   76.010050    1.572864  \n",
              "std       2.757689    3.697627    0.802055  \n",
              "min       8.000000   70.000000    1.000000  \n",
              "25%      13.825000   73.000000    1.000000  \n",
              "50%      15.500000   76.000000    1.000000  \n",
              "75%      17.175000   79.000000    2.000000  \n",
              "max      24.800000   82.000000    3.000000  "
            ],
            "text/html": [
              "\n",
              "  <div id=\"df-341d9a9b-175c-4baa-8887-6f69766056b7\">\n",
              "    <div class=\"colab-df-container\">\n",
              "      <div>\n",
              "<style scoped>\n",
              "    .dataframe tbody tr th:only-of-type {\n",
              "        vertical-align: middle;\n",
              "    }\n",
              "\n",
              "    .dataframe tbody tr th {\n",
              "        vertical-align: top;\n",
              "    }\n",
              "\n",
              "    .dataframe thead th {\n",
              "        text-align: right;\n",
              "    }\n",
              "</style>\n",
              "<table border=\"1\" class=\"dataframe\">\n",
              "  <thead>\n",
              "    <tr style=\"text-align: right;\">\n",
              "      <th></th>\n",
              "      <th>car_name</th>\n",
              "      <th>mpg</th>\n",
              "      <th>cyl</th>\n",
              "      <th>disp</th>\n",
              "      <th>hp</th>\n",
              "      <th>wt</th>\n",
              "      <th>acc</th>\n",
              "      <th>yr</th>\n",
              "      <th>origin</th>\n",
              "    </tr>\n",
              "  </thead>\n",
              "  <tbody>\n",
              "    <tr>\n",
              "      <th>count</th>\n",
              "      <td>398</td>\n",
              "      <td>398.000000</td>\n",
              "      <td>398.000000</td>\n",
              "      <td>398.000000</td>\n",
              "      <td>398.0</td>\n",
              "      <td>398.000000</td>\n",
              "      <td>398.000000</td>\n",
              "      <td>398.000000</td>\n",
              "      <td>398.000000</td>\n",
              "    </tr>\n",
              "    <tr>\n",
              "      <th>unique</th>\n",
              "      <td>305</td>\n",
              "      <td>NaN</td>\n",
              "      <td>NaN</td>\n",
              "      <td>NaN</td>\n",
              "      <td>94.0</td>\n",
              "      <td>NaN</td>\n",
              "      <td>NaN</td>\n",
              "      <td>NaN</td>\n",
              "      <td>NaN</td>\n",
              "    </tr>\n",
              "    <tr>\n",
              "      <th>top</th>\n",
              "      <td>ford pinto</td>\n",
              "      <td>NaN</td>\n",
              "      <td>NaN</td>\n",
              "      <td>NaN</td>\n",
              "      <td>150.0</td>\n",
              "      <td>NaN</td>\n",
              "      <td>NaN</td>\n",
              "      <td>NaN</td>\n",
              "      <td>NaN</td>\n",
              "    </tr>\n",
              "    <tr>\n",
              "      <th>freq</th>\n",
              "      <td>6</td>\n",
              "      <td>NaN</td>\n",
              "      <td>NaN</td>\n",
              "      <td>NaN</td>\n",
              "      <td>22.0</td>\n",
              "      <td>NaN</td>\n",
              "      <td>NaN</td>\n",
              "      <td>NaN</td>\n",
              "      <td>NaN</td>\n",
              "    </tr>\n",
              "    <tr>\n",
              "      <th>mean</th>\n",
              "      <td>NaN</td>\n",
              "      <td>23.514573</td>\n",
              "      <td>5.454774</td>\n",
              "      <td>193.425879</td>\n",
              "      <td>NaN</td>\n",
              "      <td>2970.424623</td>\n",
              "      <td>15.568090</td>\n",
              "      <td>76.010050</td>\n",
              "      <td>1.572864</td>\n",
              "    </tr>\n",
              "    <tr>\n",
              "      <th>std</th>\n",
              "      <td>NaN</td>\n",
              "      <td>7.815984</td>\n",
              "      <td>1.701004</td>\n",
              "      <td>104.269838</td>\n",
              "      <td>NaN</td>\n",
              "      <td>846.841774</td>\n",
              "      <td>2.757689</td>\n",
              "      <td>3.697627</td>\n",
              "      <td>0.802055</td>\n",
              "    </tr>\n",
              "    <tr>\n",
              "      <th>min</th>\n",
              "      <td>NaN</td>\n",
              "      <td>9.000000</td>\n",
              "      <td>3.000000</td>\n",
              "      <td>68.000000</td>\n",
              "      <td>NaN</td>\n",
              "      <td>1613.000000</td>\n",
              "      <td>8.000000</td>\n",
              "      <td>70.000000</td>\n",
              "      <td>1.000000</td>\n",
              "    </tr>\n",
              "    <tr>\n",
              "      <th>25%</th>\n",
              "      <td>NaN</td>\n",
              "      <td>17.500000</td>\n",
              "      <td>4.000000</td>\n",
              "      <td>104.250000</td>\n",
              "      <td>NaN</td>\n",
              "      <td>2223.750000</td>\n",
              "      <td>13.825000</td>\n",
              "      <td>73.000000</td>\n",
              "      <td>1.000000</td>\n",
              "    </tr>\n",
              "    <tr>\n",
              "      <th>50%</th>\n",
              "      <td>NaN</td>\n",
              "      <td>23.000000</td>\n",
              "      <td>4.000000</td>\n",
              "      <td>148.500000</td>\n",
              "      <td>NaN</td>\n",
              "      <td>2803.500000</td>\n",
              "      <td>15.500000</td>\n",
              "      <td>76.000000</td>\n",
              "      <td>1.000000</td>\n",
              "    </tr>\n",
              "    <tr>\n",
              "      <th>75%</th>\n",
              "      <td>NaN</td>\n",
              "      <td>29.000000</td>\n",
              "      <td>8.000000</td>\n",
              "      <td>262.000000</td>\n",
              "      <td>NaN</td>\n",
              "      <td>3608.000000</td>\n",
              "      <td>17.175000</td>\n",
              "      <td>79.000000</td>\n",
              "      <td>2.000000</td>\n",
              "    </tr>\n",
              "    <tr>\n",
              "      <th>max</th>\n",
              "      <td>NaN</td>\n",
              "      <td>46.600000</td>\n",
              "      <td>8.000000</td>\n",
              "      <td>455.000000</td>\n",
              "      <td>NaN</td>\n",
              "      <td>5140.000000</td>\n",
              "      <td>24.800000</td>\n",
              "      <td>82.000000</td>\n",
              "      <td>3.000000</td>\n",
              "    </tr>\n",
              "  </tbody>\n",
              "</table>\n",
              "</div>\n",
              "      <button class=\"colab-df-convert\" onclick=\"convertToInteractive('df-341d9a9b-175c-4baa-8887-6f69766056b7')\"\n",
              "              title=\"Convert this dataframe to an interactive table.\"\n",
              "              style=\"display:none;\">\n",
              "        \n",
              "  <svg xmlns=\"http://www.w3.org/2000/svg\" height=\"24px\"viewBox=\"0 0 24 24\"\n",
              "       width=\"24px\">\n",
              "    <path d=\"M0 0h24v24H0V0z\" fill=\"none\"/>\n",
              "    <path d=\"M18.56 5.44l.94 2.06.94-2.06 2.06-.94-2.06-.94-.94-2.06-.94 2.06-2.06.94zm-11 1L8.5 8.5l.94-2.06 2.06-.94-2.06-.94L8.5 2.5l-.94 2.06-2.06.94zm10 10l.94 2.06.94-2.06 2.06-.94-2.06-.94-.94-2.06-.94 2.06-2.06.94z\"/><path d=\"M17.41 7.96l-1.37-1.37c-.4-.4-.92-.59-1.43-.59-.52 0-1.04.2-1.43.59L10.3 9.45l-7.72 7.72c-.78.78-.78 2.05 0 2.83L4 21.41c.39.39.9.59 1.41.59.51 0 1.02-.2 1.41-.59l7.78-7.78 2.81-2.81c.8-.78.8-2.07 0-2.86zM5.41 20L4 18.59l7.72-7.72 1.47 1.35L5.41 20z\"/>\n",
              "  </svg>\n",
              "      </button>\n",
              "      \n",
              "  <style>\n",
              "    .colab-df-container {\n",
              "      display:flex;\n",
              "      flex-wrap:wrap;\n",
              "      gap: 12px;\n",
              "    }\n",
              "\n",
              "    .colab-df-convert {\n",
              "      background-color: #E8F0FE;\n",
              "      border: none;\n",
              "      border-radius: 50%;\n",
              "      cursor: pointer;\n",
              "      display: none;\n",
              "      fill: #1967D2;\n",
              "      height: 32px;\n",
              "      padding: 0 0 0 0;\n",
              "      width: 32px;\n",
              "    }\n",
              "\n",
              "    .colab-df-convert:hover {\n",
              "      background-color: #E2EBFA;\n",
              "      box-shadow: 0px 1px 2px rgba(60, 64, 67, 0.3), 0px 1px 3px 1px rgba(60, 64, 67, 0.15);\n",
              "      fill: #174EA6;\n",
              "    }\n",
              "\n",
              "    [theme=dark] .colab-df-convert {\n",
              "      background-color: #3B4455;\n",
              "      fill: #D2E3FC;\n",
              "    }\n",
              "\n",
              "    [theme=dark] .colab-df-convert:hover {\n",
              "      background-color: #434B5C;\n",
              "      box-shadow: 0px 1px 3px 1px rgba(0, 0, 0, 0.15);\n",
              "      filter: drop-shadow(0px 1px 2px rgba(0, 0, 0, 0.3));\n",
              "      fill: #FFFFFF;\n",
              "    }\n",
              "  </style>\n",
              "\n",
              "      <script>\n",
              "        const buttonEl =\n",
              "          document.querySelector('#df-341d9a9b-175c-4baa-8887-6f69766056b7 button.colab-df-convert');\n",
              "        buttonEl.style.display =\n",
              "          google.colab.kernel.accessAllowed ? 'block' : 'none';\n",
              "\n",
              "        async function convertToInteractive(key) {\n",
              "          const element = document.querySelector('#df-341d9a9b-175c-4baa-8887-6f69766056b7');\n",
              "          const dataTable =\n",
              "            await google.colab.kernel.invokeFunction('convertToInteractive',\n",
              "                                                     [key], {});\n",
              "          if (!dataTable) return;\n",
              "\n",
              "          const docLinkHtml = 'Like what you see? Visit the ' +\n",
              "            '<a target=\"_blank\" href=https://colab.research.google.com/notebooks/data_table.ipynb>data table notebook</a>'\n",
              "            + ' to learn more about interactive tables.';\n",
              "          element.innerHTML = '';\n",
              "          dataTable['output_type'] = 'display_data';\n",
              "          await google.colab.output.renderOutput(dataTable, element);\n",
              "          const docLink = document.createElement('div');\n",
              "          docLink.innerHTML = docLinkHtml;\n",
              "          element.appendChild(docLink);\n",
              "        }\n",
              "      </script>\n",
              "    </div>\n",
              "  </div>\n",
              "  "
            ]
          },
          "metadata": {},
          "execution_count": 13
        }
      ]
    },
    {
      "cell_type": "code",
      "source": [
        "def NanOrNot(df):\n",
        "  columns = df.columns\n",
        "  Nan_list = list()\n",
        "\n",
        "  for i in columns:\n",
        "    if len(df[i].unique()) > 1:\n",
        "      Nan_list.append(i)\n",
        "\n",
        "  return Nan_list"
      ],
      "metadata": {
        "id": "O3Dlhxy-jQfh"
      },
      "execution_count": 14,
      "outputs": []
    },
    {
      "cell_type": "code",
      "source": [
        "Nan_list = NanOrNot(isNa.copy())\n",
        "if not(len(Nan_list)):\n",
        "  print(\"No Nan values in any columns\")\n",
        "  print(\"So none of the columns have any missing values.\")\n",
        "else:\n",
        "  print(\"Nan values found in following columns\")\n",
        "  for i in Nan_list: print(i)\n",
        "  print()\n",
        "  print(\"Now let's check the percentage of missing values\")\n",
        "\n",
        "  rows, col_num = car.shape\n",
        "  for i in Nan_list:\n",
        "    print(f\"{i}: { ( car[i].isna().value_counts()[1] / rows ) * 100 }%\")\n",
        "\n",
        "  # Now let's impute the missing values with mean or mode depending on datatype.\n",
        "\n",
        "  describe = car.describe(include='all')\n",
        "\n",
        "  for i in Nan_list:\n",
        "    if car[i].dtype == \"object\":\n",
        "      car[i].fillna(value=describe.loc[\"freq\"][i], inplace=True)\n",
        "    else:\n",
        "      car[i].fillna(value=describe.loc[\"mean\"][i], inplace=True)"
      ],
      "metadata": {
        "colab": {
          "base_uri": "https://localhost:8080/"
        },
        "id": "Q6RKf5QS5dtY",
        "outputId": "e1a7cf5b-5a6b-4152-daf8-92202092bf71"
      },
      "execution_count": 15,
      "outputs": [
        {
          "output_type": "stream",
          "name": "stdout",
          "text": [
            "No Nan values in any columns\n",
            "So none of the columns have any missing values.\n"
          ]
        }
      ]
    },
    {
      "cell_type": "markdown",
      "source": [
        "### B\n",
        "Checking for duplicates and imputing them\n"
      ],
      "metadata": {
        "id": "pYk28TgxBqGG"
      }
    },
    {
      "cell_type": "code",
      "source": [
        "bol = car.duplicated()\n",
        "car[bol==False]"
      ],
      "metadata": {
        "colab": {
          "base_uri": "https://localhost:8080/",
          "height": 424
        },
        "id": "NjaVXM0LGS7_",
        "outputId": "059783db-b557-4753-d386-1ebda923e1b3"
      },
      "execution_count": 16,
      "outputs": [
        {
          "output_type": "execute_result",
          "data": {
            "text/plain": [
              "                      car_name   mpg  cyl   disp   hp    wt   acc  yr  origin\n",
              "0    chevrolet chevelle malibu  18.0    8  307.0  130  3504  12.0  70       1\n",
              "1            buick skylark 320  15.0    8  350.0  165  3693  11.5  70       1\n",
              "2           plymouth satellite  18.0    8  318.0  150  3436  11.0  70       1\n",
              "3                amc rebel sst  16.0    8  304.0  150  3433  12.0  70       1\n",
              "4                  ford torino  17.0    8  302.0  140  3449  10.5  70       1\n",
              "..                         ...   ...  ...    ...  ...   ...   ...  ..     ...\n",
              "393            ford mustang gl  27.0    4  140.0   86  2790  15.6  82       1\n",
              "394                  vw pickup  44.0    4   97.0   52  2130  24.6  82       2\n",
              "395              dodge rampage  32.0    4  135.0   84  2295  11.6  82       1\n",
              "396                ford ranger  28.0    4  120.0   79  2625  18.6  82       1\n",
              "397                 chevy s-10  31.0    4  119.0   82  2720  19.4  82       1\n",
              "\n",
              "[398 rows x 9 columns]"
            ],
            "text/html": [
              "\n",
              "  <div id=\"df-b9233af9-f361-4c9d-8647-60d84f33198d\">\n",
              "    <div class=\"colab-df-container\">\n",
              "      <div>\n",
              "<style scoped>\n",
              "    .dataframe tbody tr th:only-of-type {\n",
              "        vertical-align: middle;\n",
              "    }\n",
              "\n",
              "    .dataframe tbody tr th {\n",
              "        vertical-align: top;\n",
              "    }\n",
              "\n",
              "    .dataframe thead th {\n",
              "        text-align: right;\n",
              "    }\n",
              "</style>\n",
              "<table border=\"1\" class=\"dataframe\">\n",
              "  <thead>\n",
              "    <tr style=\"text-align: right;\">\n",
              "      <th></th>\n",
              "      <th>car_name</th>\n",
              "      <th>mpg</th>\n",
              "      <th>cyl</th>\n",
              "      <th>disp</th>\n",
              "      <th>hp</th>\n",
              "      <th>wt</th>\n",
              "      <th>acc</th>\n",
              "      <th>yr</th>\n",
              "      <th>origin</th>\n",
              "    </tr>\n",
              "  </thead>\n",
              "  <tbody>\n",
              "    <tr>\n",
              "      <th>0</th>\n",
              "      <td>chevrolet chevelle malibu</td>\n",
              "      <td>18.0</td>\n",
              "      <td>8</td>\n",
              "      <td>307.0</td>\n",
              "      <td>130</td>\n",
              "      <td>3504</td>\n",
              "      <td>12.0</td>\n",
              "      <td>70</td>\n",
              "      <td>1</td>\n",
              "    </tr>\n",
              "    <tr>\n",
              "      <th>1</th>\n",
              "      <td>buick skylark 320</td>\n",
              "      <td>15.0</td>\n",
              "      <td>8</td>\n",
              "      <td>350.0</td>\n",
              "      <td>165</td>\n",
              "      <td>3693</td>\n",
              "      <td>11.5</td>\n",
              "      <td>70</td>\n",
              "      <td>1</td>\n",
              "    </tr>\n",
              "    <tr>\n",
              "      <th>2</th>\n",
              "      <td>plymouth satellite</td>\n",
              "      <td>18.0</td>\n",
              "      <td>8</td>\n",
              "      <td>318.0</td>\n",
              "      <td>150</td>\n",
              "      <td>3436</td>\n",
              "      <td>11.0</td>\n",
              "      <td>70</td>\n",
              "      <td>1</td>\n",
              "    </tr>\n",
              "    <tr>\n",
              "      <th>3</th>\n",
              "      <td>amc rebel sst</td>\n",
              "      <td>16.0</td>\n",
              "      <td>8</td>\n",
              "      <td>304.0</td>\n",
              "      <td>150</td>\n",
              "      <td>3433</td>\n",
              "      <td>12.0</td>\n",
              "      <td>70</td>\n",
              "      <td>1</td>\n",
              "    </tr>\n",
              "    <tr>\n",
              "      <th>4</th>\n",
              "      <td>ford torino</td>\n",
              "      <td>17.0</td>\n",
              "      <td>8</td>\n",
              "      <td>302.0</td>\n",
              "      <td>140</td>\n",
              "      <td>3449</td>\n",
              "      <td>10.5</td>\n",
              "      <td>70</td>\n",
              "      <td>1</td>\n",
              "    </tr>\n",
              "    <tr>\n",
              "      <th>...</th>\n",
              "      <td>...</td>\n",
              "      <td>...</td>\n",
              "      <td>...</td>\n",
              "      <td>...</td>\n",
              "      <td>...</td>\n",
              "      <td>...</td>\n",
              "      <td>...</td>\n",
              "      <td>...</td>\n",
              "      <td>...</td>\n",
              "    </tr>\n",
              "    <tr>\n",
              "      <th>393</th>\n",
              "      <td>ford mustang gl</td>\n",
              "      <td>27.0</td>\n",
              "      <td>4</td>\n",
              "      <td>140.0</td>\n",
              "      <td>86</td>\n",
              "      <td>2790</td>\n",
              "      <td>15.6</td>\n",
              "      <td>82</td>\n",
              "      <td>1</td>\n",
              "    </tr>\n",
              "    <tr>\n",
              "      <th>394</th>\n",
              "      <td>vw pickup</td>\n",
              "      <td>44.0</td>\n",
              "      <td>4</td>\n",
              "      <td>97.0</td>\n",
              "      <td>52</td>\n",
              "      <td>2130</td>\n",
              "      <td>24.6</td>\n",
              "      <td>82</td>\n",
              "      <td>2</td>\n",
              "    </tr>\n",
              "    <tr>\n",
              "      <th>395</th>\n",
              "      <td>dodge rampage</td>\n",
              "      <td>32.0</td>\n",
              "      <td>4</td>\n",
              "      <td>135.0</td>\n",
              "      <td>84</td>\n",
              "      <td>2295</td>\n",
              "      <td>11.6</td>\n",
              "      <td>82</td>\n",
              "      <td>1</td>\n",
              "    </tr>\n",
              "    <tr>\n",
              "      <th>396</th>\n",
              "      <td>ford ranger</td>\n",
              "      <td>28.0</td>\n",
              "      <td>4</td>\n",
              "      <td>120.0</td>\n",
              "      <td>79</td>\n",
              "      <td>2625</td>\n",
              "      <td>18.6</td>\n",
              "      <td>82</td>\n",
              "      <td>1</td>\n",
              "    </tr>\n",
              "    <tr>\n",
              "      <th>397</th>\n",
              "      <td>chevy s-10</td>\n",
              "      <td>31.0</td>\n",
              "      <td>4</td>\n",
              "      <td>119.0</td>\n",
              "      <td>82</td>\n",
              "      <td>2720</td>\n",
              "      <td>19.4</td>\n",
              "      <td>82</td>\n",
              "      <td>1</td>\n",
              "    </tr>\n",
              "  </tbody>\n",
              "</table>\n",
              "<p>398 rows × 9 columns</p>\n",
              "</div>\n",
              "      <button class=\"colab-df-convert\" onclick=\"convertToInteractive('df-b9233af9-f361-4c9d-8647-60d84f33198d')\"\n",
              "              title=\"Convert this dataframe to an interactive table.\"\n",
              "              style=\"display:none;\">\n",
              "        \n",
              "  <svg xmlns=\"http://www.w3.org/2000/svg\" height=\"24px\"viewBox=\"0 0 24 24\"\n",
              "       width=\"24px\">\n",
              "    <path d=\"M0 0h24v24H0V0z\" fill=\"none\"/>\n",
              "    <path d=\"M18.56 5.44l.94 2.06.94-2.06 2.06-.94-2.06-.94-.94-2.06-.94 2.06-2.06.94zm-11 1L8.5 8.5l.94-2.06 2.06-.94-2.06-.94L8.5 2.5l-.94 2.06-2.06.94zm10 10l.94 2.06.94-2.06 2.06-.94-2.06-.94-.94-2.06-.94 2.06-2.06.94z\"/><path d=\"M17.41 7.96l-1.37-1.37c-.4-.4-.92-.59-1.43-.59-.52 0-1.04.2-1.43.59L10.3 9.45l-7.72 7.72c-.78.78-.78 2.05 0 2.83L4 21.41c.39.39.9.59 1.41.59.51 0 1.02-.2 1.41-.59l7.78-7.78 2.81-2.81c.8-.78.8-2.07 0-2.86zM5.41 20L4 18.59l7.72-7.72 1.47 1.35L5.41 20z\"/>\n",
              "  </svg>\n",
              "      </button>\n",
              "      \n",
              "  <style>\n",
              "    .colab-df-container {\n",
              "      display:flex;\n",
              "      flex-wrap:wrap;\n",
              "      gap: 12px;\n",
              "    }\n",
              "\n",
              "    .colab-df-convert {\n",
              "      background-color: #E8F0FE;\n",
              "      border: none;\n",
              "      border-radius: 50%;\n",
              "      cursor: pointer;\n",
              "      display: none;\n",
              "      fill: #1967D2;\n",
              "      height: 32px;\n",
              "      padding: 0 0 0 0;\n",
              "      width: 32px;\n",
              "    }\n",
              "\n",
              "    .colab-df-convert:hover {\n",
              "      background-color: #E2EBFA;\n",
              "      box-shadow: 0px 1px 2px rgba(60, 64, 67, 0.3), 0px 1px 3px 1px rgba(60, 64, 67, 0.15);\n",
              "      fill: #174EA6;\n",
              "    }\n",
              "\n",
              "    [theme=dark] .colab-df-convert {\n",
              "      background-color: #3B4455;\n",
              "      fill: #D2E3FC;\n",
              "    }\n",
              "\n",
              "    [theme=dark] .colab-df-convert:hover {\n",
              "      background-color: #434B5C;\n",
              "      box-shadow: 0px 1px 3px 1px rgba(0, 0, 0, 0.15);\n",
              "      filter: drop-shadow(0px 1px 2px rgba(0, 0, 0, 0.3));\n",
              "      fill: #FFFFFF;\n",
              "    }\n",
              "  </style>\n",
              "\n",
              "      <script>\n",
              "        const buttonEl =\n",
              "          document.querySelector('#df-b9233af9-f361-4c9d-8647-60d84f33198d button.colab-df-convert');\n",
              "        buttonEl.style.display =\n",
              "          google.colab.kernel.accessAllowed ? 'block' : 'none';\n",
              "\n",
              "        async function convertToInteractive(key) {\n",
              "          const element = document.querySelector('#df-b9233af9-f361-4c9d-8647-60d84f33198d');\n",
              "          const dataTable =\n",
              "            await google.colab.kernel.invokeFunction('convertToInteractive',\n",
              "                                                     [key], {});\n",
              "          if (!dataTable) return;\n",
              "\n",
              "          const docLinkHtml = 'Like what you see? Visit the ' +\n",
              "            '<a target=\"_blank\" href=https://colab.research.google.com/notebooks/data_table.ipynb>data table notebook</a>'\n",
              "            + ' to learn more about interactive tables.';\n",
              "          element.innerHTML = '';\n",
              "          dataTable['output_type'] = 'display_data';\n",
              "          await google.colab.output.renderOutput(dataTable, element);\n",
              "          const docLink = document.createElement('div');\n",
              "          docLink.innerHTML = docLinkHtml;\n",
              "          element.appendChild(docLink);\n",
              "        }\n",
              "      </script>\n",
              "    </div>\n",
              "  </div>\n",
              "  "
            ]
          },
          "metadata": {},
          "execution_count": 16
        }
      ]
    },
    {
      "cell_type": "code",
      "source": [
        "car_2 = car.copy()\n",
        "describe_2 = car_2.describe()\n",
        "print(describe_2)\n",
        "annoyed = \"mean\"\n",
        "\n",
        "for i in car_2.columns:\n",
        "  if car_2[i].dtype != \"object\":\n",
        "    bool_series = car_2[i].duplicated(keep='first')\n",
        "    for j, k in zip( bool_series, range( len( car_2[i] ) ) ):\n",
        "      if j == True:\n",
        "        car_2.at[k, i] = describe_2.loc[\"mean\"][i]\n",
        "\n",
        "print(car_2.describe())\n",
        "\n",
        "for i in car_2.columns:\n",
        "  if car_2[i].dtype != \"object\":\n",
        "    bool_series = car_2[i].duplicated(keep='first')\n",
        "    for j, k in zip( bool_series, range( len( car_2[i] ) ) ):\n",
        "      if j == True and car_2.loc[k][i] != describe_2.loc[\"mean\"][i]:\n",
        "        print(f\"At column {i} repeating value is {car_2.loc[k][i]:.4f}\")\n",
        "        break\n",
        "\n",
        "car = car_2"
      ],
      "metadata": {
        "colab": {
          "base_uri": "https://localhost:8080/"
        },
        "id": "5sNXc-4K97nk",
        "outputId": "6ec2366f-b4ca-4dca-b386-175f9c6e8c0c"
      },
      "execution_count": 17,
      "outputs": [
        {
          "output_type": "stream",
          "name": "stdout",
          "text": [
            "              mpg         cyl        disp           wt         acc  \\\n",
            "count  398.000000  398.000000  398.000000   398.000000  398.000000   \n",
            "mean    23.514573    5.454774  193.425879  2970.424623   15.568090   \n",
            "std      7.815984    1.701004  104.269838   846.841774    2.757689   \n",
            "min      9.000000    3.000000   68.000000  1613.000000    8.000000   \n",
            "25%     17.500000    4.000000  104.250000  2223.750000   13.825000   \n",
            "50%     23.000000    4.000000  148.500000  2803.500000   15.500000   \n",
            "75%     29.000000    8.000000  262.000000  3608.000000   17.175000   \n",
            "max     46.600000    8.000000  455.000000  5140.000000   24.800000   \n",
            "\n",
            "               yr      origin  \n",
            "count  398.000000  398.000000  \n",
            "mean    76.010050    1.572864  \n",
            "std      3.697627    0.802055  \n",
            "min     70.000000    1.000000  \n",
            "25%     73.000000    1.000000  \n",
            "50%     76.000000    1.000000  \n",
            "75%     79.000000    2.000000  \n",
            "max     82.000000    3.000000  \n",
            "              mpg         cyl        disp           wt         acc  \\\n",
            "count  398.000000  398.000000  398.000000   398.000000  398.000000   \n",
            "mean    24.773417    5.002513  190.736377  3028.158291   15.699325   \n",
            "std      5.094560    0.194363   48.864544   796.220586    1.836656   \n",
            "min      9.000000    3.000000   68.000000  1613.000000    8.000000   \n",
            "25%     23.514573    5.000000  193.425879  2379.250000   15.568090   \n",
            "50%     23.514573    5.000000  193.425879  2970.000000   15.568090   \n",
            "75%     23.514573    5.000000  193.425879  3533.750000   15.568090   \n",
            "max     46.600000    8.000000  455.000000  5140.000000   24.800000   \n",
            "\n",
            "               yr      origin  \n",
            "count  398.000000  398.000000  \n",
            "mean    76.000000    1.007538  \n",
            "std      0.677081    0.111971  \n",
            "min     70.000000    1.000000  \n",
            "25%     76.000000    1.000000  \n",
            "50%     76.000000    1.000000  \n",
            "75%     76.000000    1.000000  \n",
            "max     82.000000    3.000000  \n",
            "At column cyl repeating value is 5.0000\n",
            "At column wt repeating value is 2970.0000\n",
            "At column yr repeating value is 76.0000\n",
            "At column origin repeating value is 1.0000\n"
          ]
        }
      ]
    },
    {
      "cell_type": "markdown",
      "source": [
        "So from the output we see that the new repeating values are basically the mean's of the old dataframe before imputing the duplicated values."
      ],
      "metadata": {
        "id": "cD59mcRsRUpw"
      }
    },
    {
      "cell_type": "markdown",
      "source": [
        "### C\n",
        "Pairplot of all features."
      ],
      "metadata": {
        "id": "IX54SF4lvWUy"
      }
    },
    {
      "cell_type": "code",
      "source": [
        "sns.pairplot(car)"
      ],
      "metadata": {
        "colab": {
          "base_uri": "https://localhost:8080/",
          "height": 1000
        },
        "id": "5i8YhE4iRUQ6",
        "outputId": "c4e045ef-54e3-442c-9f41-f6f545eba81f"
      },
      "execution_count": 18,
      "outputs": [
        {
          "output_type": "execute_result",
          "data": {
            "text/plain": [
              "<seaborn.axisgrid.PairGrid at 0x7fd479954d00>"
            ]
          },
          "metadata": {},
          "execution_count": 18
        },
        {
          "output_type": "display_data",
          "data": {
            "text/plain": [
              "<Figure size 1260x1260 with 56 Axes>"
            ],
            "image/png": "[encoded data removed]"
          },
          "metadata": {
            "needs_background": "light"
          }
        }
      ]
    },
    {
      "cell_type": "markdown",
      "source": [
        "### D\n",
        "Visualize a scatterplot for ‘wt’ and ‘disp’. Datapoints should be distinguishable by ‘cyl’. "
      ],
      "metadata": {
        "id": "8_QaVU9PwHkQ"
      }
    },
    {
      "cell_type": "code",
      "source": [
        "sns.scatterplot(data=car, x=\"wt\", y=\"disp\", hue=\"cyl\", palette = [\"#fef65b\", \"#00ffff\", \"#ff0000\", \"#6e57d2\", \"#00ff00\"])"
      ],
      "metadata": {
        "colab": {
          "base_uri": "https://localhost:8080/",
          "height": 297
        },
        "id": "GRC0GbKlB3PY",
        "outputId": "ddf2f27c-7e47-41a9-e4d3-909d28e0f03e"
      },
      "execution_count": 19,
      "outputs": [
        {
          "output_type": "execute_result",
          "data": {
            "text/plain": [
              "<matplotlib.axes._subplots.AxesSubplot at 0x7fd47582b460>"
            ]
          },
          "metadata": {},
          "execution_count": 19
        },
        {
          "output_type": "display_data",
          "data": {
            "text/plain": [
              "<Figure size 432x288 with 1 Axes>"
            ],
            "image/png": "[encoded data removed]"
          },
          "metadata": {
            "needs_background": "light"
          }
        }
      ]
    },
    {
      "cell_type": "markdown",
      "source": [
        "### E\n",
        "Sharing insights for above graph."
      ],
      "metadata": {
        "id": "sB1ANjhhyK6T"
      }
    },
    {
      "cell_type": "markdown",
      "source": [
        "As we can see, majority of the cylinders are 5 cylinder, and most of them either have a displacement of 200 or a linear trend with weight of vehicle."
      ],
      "metadata": {
        "id": "gSsnmWRwUO-t"
      }
    },
    {
      "cell_type": "markdown",
      "source": [
        "### F\n",
        "Scatterplot for 'wt' and 'mpg'."
      ],
      "metadata": {
        "id": "3d-T9_RTVHyv"
      }
    },
    {
      "cell_type": "code",
      "source": [
        "sns.scatterplot(data=car, x=\"wt\", y=\"mpg\", hue=\"cyl\", palette = [\"#fef65b\", \"#00ffff\", \"#ff0000\", \"#6e57d2\", \"#00ff00\"])"
      ],
      "metadata": {
        "colab": {
          "base_uri": "https://localhost:8080/",
          "height": 297
        },
        "id": "PdX9jYxswg3s",
        "outputId": "1071f295-f0f0-4ef3-f89b-01b399d81089"
      },
      "execution_count": 20,
      "outputs": [
        {
          "output_type": "execute_result",
          "data": {
            "text/plain": [
              "<matplotlib.axes._subplots.AxesSubplot at 0x7fd473f60520>"
            ]
          },
          "metadata": {},
          "execution_count": 20
        },
        {
          "output_type": "display_data",
          "data": {
            "text/plain": [
              "<Figure size 432x288 with 1 Axes>"
            ],
            "image/png": "[encoded data removed]"
          },
          "metadata": {
            "needs_background": "light"
          }
        }
      ]
    },
    {
      "cell_type": "markdown",
      "source": [
        "### G\n",
        "Sharing insights."
      ],
      "metadata": {
        "id": "RERpKtu9YrYt"
      }
    },
    {
      "cell_type": "markdown",
      "source": [
        "We can clearly see a negative correlation between 'wt' and 'mpg'.\n",
        "\n",
        "Also there is a large number of vehicles with mileage of 25 having 5 stroke cylinder."
      ],
      "metadata": {
        "id": "Etzh4mKbYrVf"
      }
    },
    {
      "cell_type": "markdown",
      "source": [
        "### H\n",
        "Checking for unexpected values."
      ],
      "metadata": {
        "id": "8RuQ3zpVZSNg"
      }
    },
    {
      "cell_type": "markdown",
      "source": [
        "We can catch unexpected values by converting a column that is object type to numeric which it is supposed to be."
      ],
      "metadata": {
        "id": "7nbP0ge9ZeAN"
      }
    },
    {
      "cell_type": "code",
      "source": [
        "unexp_list = list()\n",
        "\n",
        "for i in car.columns:\n",
        "  try:\n",
        "    if car[i].dtype == \"object\" and i != \"car_name\":\n",
        "      car[i] = car[i].astype(\"float64\")\n",
        "  except:\n",
        "    unexp_list.append(i)"
      ],
      "metadata": {
        "id": "bFjWk9-FVEjB"
      },
      "execution_count": 21,
      "outputs": []
    },
    {
      "cell_type": "code",
      "source": [
        "unexp_list"
      ],
      "metadata": {
        "colab": {
          "base_uri": "https://localhost:8080/"
        },
        "id": "TySWfw_naJ_1",
        "outputId": "92b4766a-5012-414d-ddec-6cc459881307"
      },
      "execution_count": 22,
      "outputs": [
        {
          "output_type": "execute_result",
          "data": {
            "text/plain": [
              "['hp']"
            ]
          },
          "metadata": {},
          "execution_count": 22
        }
      ]
    },
    {
      "cell_type": "markdown",
      "source": [
        "Okay so, only hp has unexpected values. Let's iterate through the list and replace the unexpected values with mean."
      ],
      "metadata": {
        "id": "GwnQ0VSRa-jB"
      }
    },
    {
      "cell_type": "code",
      "source": [
        "car_2 = car.copy()\n",
        "\n",
        "for i, j in zip(car_2[\"hp\"], range(len(car_2))):\n",
        "  try:\n",
        "    car_2.at[j, \"hp\"] = int(i)\n",
        "  except:\n",
        "    car_2.at[j, \"hp\"] = np.nan\n",
        "\n",
        "car_2[\"hp\"] = car_2.hp.astype(\"float64\")\n",
        "describe = car_2.describe(include='all')\n",
        "mean = describe.loc[\"mean\"][\"hp\"]\n",
        "print(\"Mean of hp is \", mean)\n",
        "\n",
        "car = car_2.fillna(value=describe.loc[\"mean\"][\"hp\"])"
      ],
      "metadata": {
        "colab": {
          "base_uri": "https://localhost:8080/"
        },
        "id": "I6sTW5_LaLYw",
        "outputId": "1cc6443e-fa8d-463e-8d93-82d0f528f452"
      },
      "execution_count": 23,
      "outputs": [
        {
          "output_type": "stream",
          "name": "stdout",
          "text": [
            "Mean of hp is  104.46938775510205\n"
          ]
        }
      ]
    },
    {
      "cell_type": "markdown",
      "source": [
        "## 3\n"
      ],
      "metadata": {
        "id": "hUIGLJ8np59K"
      }
    },
    {
      "cell_type": "markdown",
      "source": [
        "### A\n",
        "Applying K-means clustering for 2 to 10 clusters."
      ],
      "metadata": {
        "id": "0a-dcgRqp7l0"
      }
    },
    {
      "cell_type": "markdown",
      "source": [
        "Before we apply clustering, we need to first scale the data."
      ],
      "metadata": {
        "id": "ebdrQktKqElE"
      }
    },
    {
      "cell_type": "code",
      "source": [
        "car_x = car.drop(\"car_name\", axis=1)\n",
        "car_scaled = car_x.apply(zscore)"
      ],
      "metadata": {
        "id": "d8jFeuSye95w"
      },
      "execution_count": 24,
      "outputs": []
    },
    {
      "cell_type": "code",
      "source": [
        "distortions = list()\n",
        "\n",
        "for i in range(2, 11):\n",
        "  model = KMeans(n_clusters=i)\n",
        "  model.fit(car_scaled)\n",
        "  distortions.append(sum(np.min(cdist(car_scaled, model.cluster_centers_, 'euclidean'), axis=1)) / car_scaled.shape[0])"
      ],
      "metadata": {
        "id": "HPwu7DvBqkeM"
      },
      "execution_count": 25,
      "outputs": []
    },
    {
      "cell_type": "markdown",
      "source": [
        "### B\n",
        "Plot a visual and find elbow points."
      ],
      "metadata": {
        "id": "lTc0Q-_PuFeF"
      }
    },
    {
      "cell_type": "code",
      "source": [
        "fig, axes = plt.subplots()\n",
        "\n",
        "axes.plot(range(2, 11), distortions, 'bx-')\n",
        "plt.xlabel('k')\n",
        "plt.ylabel('Average distortion')\n",
        "plt.title('Selecting k with the Elbow Method')"
      ],
      "metadata": {
        "colab": {
          "base_uri": "https://localhost:8080/",
          "height": 313
        },
        "id": "gOgx3qJIs6qJ",
        "outputId": "79ef06b0-3a24-4439-93a1-233bc97d6afc"
      },
      "execution_count": 26,
      "outputs": [
        {
          "output_type": "execute_result",
          "data": {
            "text/plain": [
              "Text(0.5, 1.0, 'Selecting k with the Elbow Method')"
            ]
          },
          "metadata": {},
          "execution_count": 26
        },
        {
          "output_type": "display_data",
          "data": {
            "text/plain": [
              "<Figure size 432x288 with 1 Axes>"
            ],
            "image/png": "[encoded data removed]"
          },
          "metadata": {
            "needs_background": "light"
          }
        }
      ]
    },
    {
      "cell_type": "markdown",
      "source": [
        "Elbow points are 6 in this iteration."
      ],
      "metadata": {
        "id": "AJPstmRPuabH"
      }
    },
    {
      "cell_type": "markdown",
      "source": [
        "### C"
      ],
      "metadata": {
        "id": "vCfwV43iuR7c"
      }
    },
    {
      "cell_type": "markdown",
      "source": [
        "Highlighthing the elbow point using arrow or some text."
      ],
      "metadata": {
        "id": "ROUC1RzWHHZf"
      }
    },
    {
      "cell_type": "code",
      "source": [
        "fig, axes = plt.subplots()\n",
        "\n",
        "axes.plot(range(2, 11), distortions, 'bx-')\n",
        "plt.xlabel('k')\n",
        "plt.ylabel('Average distortion')\n",
        "plt.title('Selecting k with the Elbow Method')\n",
        "\n",
        "axes.annotate(s=\"Elbow point\",\n",
        "              xy=(6, distortions[4]),\n",
        "              arrowprops=dict(facecolor='red', \n",
        "                              shrink=0.005)\n",
        "              )"
      ],
      "metadata": {
        "colab": {
          "base_uri": "https://localhost:8080/",
          "height": 313
        },
        "id": "kWgN59xruL4X",
        "outputId": "9b3e5fe9-92ef-445d-9845-b5cc62c27cb9"
      },
      "execution_count": 27,
      "outputs": [
        {
          "output_type": "execute_result",
          "data": {
            "text/plain": [
              "Text(6, 1.3767188905812384, 'Elbow point')"
            ]
          },
          "metadata": {},
          "execution_count": 27
        },
        {
          "output_type": "display_data",
          "data": {
            "text/plain": [
              "<Figure size 432x288 with 1 Axes>"
            ],
            "image/png": "[encoded data removed]"
          },
          "metadata": {
            "needs_background": "light"
          }
        }
      ]
    },
    {
      "cell_type": "markdown",
      "source": [
        "### D\n",
        "Training a clustering model again using optimal cluster number."
      ],
      "metadata": {
        "id": "Yw8mkz7OqPWv"
      }
    },
    {
      "cell_type": "code",
      "source": [
        "model_2 = KMeans(n_clusters=6)\n",
        "model_2.fit(car_scaled)\n",
        "prediction = model_2.predict(car_scaled)"
      ],
      "metadata": {
        "id": "HumxdgHZI9UW"
      },
      "execution_count": 28,
      "outputs": []
    },
    {
      "cell_type": "markdown",
      "source": [
        "### E\n",
        "Adding a new feature in dataframe that will have labels that model predicted."
      ],
      "metadata": {
        "id": "fp54TK3rraCe"
      }
    },
    {
      "cell_type": "code",
      "source": [
        "prediction"
      ],
      "metadata": {
        "colab": {
          "base_uri": "https://localhost:8080/"
        },
        "id": "Es7q5bC8rDTP",
        "outputId": "096cf0f0-feb3-402e-d4ea-8ac85ec8a05b"
      },
      "execution_count": 29,
      "outputs": [
        {
          "output_type": "execute_result",
          "data": {
            "text/plain": [
              "array([5, 2, 2, 4, 2, 2, 2, 2, 2, 2, 2, 2, 2, 4, 3, 1, 1, 1, 1, 0, 1, 1,\n",
              "       1, 1, 1, 2, 4, 4, 4, 1, 1, 1, 1, 1, 1, 1, 1, 1, 4, 4, 2, 4, 4, 4,\n",
              "       4, 1, 1, 1, 1, 1, 1, 0, 1, 0, 0, 1, 1, 1, 1, 0, 1, 1, 4, 4, 4, 4,\n",
              "       4, 4, 4, 4, 4, 1, 4, 4, 4, 4, 1, 1, 1, 1, 1, 1, 1, 1, 1, 4, 4, 4,\n",
              "       4, 4, 4, 4, 4, 4, 4, 4, 4, 1, 1, 1, 1, 1, 0, 4, 4, 4, 4, 1, 1, 1,\n",
              "       1, 1, 1, 1, 1, 4, 4, 0, 1, 1, 1, 4, 1, 1, 4, 1, 1, 1, 1, 1, 1, 0,\n",
              "       1, 1, 1, 1, 4, 4, 4, 4, 4, 1, 1, 1, 1, 1, 1, 1, 1, 1, 1, 1, 1, 1,\n",
              "       1, 1, 4, 4, 4, 4, 4, 4, 4, 1, 1, 1, 1, 1, 1, 1, 1, 1, 1, 1, 1, 1,\n",
              "       1, 1, 1, 1, 1, 0, 1, 1, 1, 1, 1, 4, 4, 4, 4, 1, 1, 1, 1, 0, 0, 1,\n",
              "       1, 1, 1, 4, 1, 1, 1, 1, 1, 1, 4, 0, 1, 4, 4, 4, 4, 4, 0, 1, 0, 1,\n",
              "       0, 4, 4, 4, 4, 1, 1, 1, 1, 4, 4, 4, 4, 1, 1, 1, 1, 0, 1, 1, 1, 1,\n",
              "       1, 1, 0, 0, 0, 0, 1, 1, 4, 4, 1, 1, 1, 1, 1, 1, 1, 1, 1, 4, 1, 4,\n",
              "       4, 4, 1, 1, 1, 0, 1, 1, 1, 1, 1, 1, 1, 1, 1, 1, 1, 1, 1, 1, 1, 4,\n",
              "       4, 4, 4, 4, 4, 4, 4, 0, 0, 0, 1, 0, 4, 0, 1, 0, 0, 0, 0, 1, 1, 1,\n",
              "       1, 0, 0, 0, 0, 1, 1, 1, 1, 0, 1, 0, 0, 0, 0, 1, 0, 0, 0, 0, 0, 0,\n",
              "       0, 0, 1, 1, 1, 1, 1, 0, 1, 1, 1, 1, 1, 0, 0, 0, 0, 1, 0, 1, 0, 0,\n",
              "       0, 1, 1, 0, 1, 0, 0, 0, 0, 1, 1, 1, 1, 1, 1, 1, 1, 0, 1, 1, 1, 1,\n",
              "       1, 1, 1, 1, 0, 1, 1, 1, 1, 1, 1, 1, 1, 1, 1, 1, 1, 1, 1, 1, 0, 1,\n",
              "       1, 1], dtype=int32)"
            ]
          },
          "metadata": {},
          "execution_count": 29
        }
      ]
    },
    {
      "cell_type": "code",
      "source": [
        "car_pred = car_x.copy()"
      ],
      "metadata": {
        "id": "E0mN3GNCrs8j"
      },
      "execution_count": 30,
      "outputs": []
    },
    {
      "cell_type": "code",
      "source": [
        "car_pred[\"groups\"] = prediction"
      ],
      "metadata": {
        "id": "CcELciV6s9AF"
      },
      "execution_count": 31,
      "outputs": []
    },
    {
      "cell_type": "code",
      "source": [
        "car_pred.head()"
      ],
      "metadata": {
        "colab": {
          "base_uri": "https://localhost:8080/",
          "height": 206
        },
        "id": "SNr6L5g8tKtw",
        "outputId": "4f34302d-12b3-4f1c-e2ab-ffb5ef08f1bf"
      },
      "execution_count": 32,
      "outputs": [
        {
          "output_type": "execute_result",
          "data": {
            "text/plain": [
              "         mpg  cyl   disp     hp    wt       acc  yr  origin  groups\n",
              "0  18.000000    8  307.0  130.0  3504  12.00000  70       1       5\n",
              "1  15.000000    5  350.0  165.0  3693  11.50000  76       1       2\n",
              "2  23.514573    5  318.0  150.0  3436  11.00000  76       1       2\n",
              "3  16.000000    5  304.0  150.0  3433  15.56809  76       1       4\n",
              "4  17.000000    5  302.0  140.0  3449  10.50000  76       1       2"
            ],
            "text/html": [
              "\n",
              "  <div id=\"df-f7bfba33-de3a-49b8-88d4-76e3bcaf3f40\">\n",
              "    <div class=\"colab-df-container\">\n",
              "      <div>\n",
              "<style scoped>\n",
              "    .dataframe tbody tr th:only-of-type {\n",
              "        vertical-align: middle;\n",
              "    }\n",
              "\n",
              "    .dataframe tbody tr th {\n",
              "        vertical-align: top;\n",
              "    }\n",
              "\n",
              "    .dataframe thead th {\n",
              "        text-align: right;\n",
              "    }\n",
              "</style>\n",
              "<table border=\"1\" class=\"dataframe\">\n",
              "  <thead>\n",
              "    <tr style=\"text-align: right;\">\n",
              "      <th></th>\n",
              "      <th>mpg</th>\n",
              "      <th>cyl</th>\n",
              "      <th>disp</th>\n",
              "      <th>hp</th>\n",
              "      <th>wt</th>\n",
              "      <th>acc</th>\n",
              "      <th>yr</th>\n",
              "      <th>origin</th>\n",
              "      <th>groups</th>\n",
              "    </tr>\n",
              "  </thead>\n",
              "  <tbody>\n",
              "    <tr>\n",
              "      <th>0</th>\n",
              "      <td>18.000000</td>\n",
              "      <td>8</td>\n",
              "      <td>307.0</td>\n",
              "      <td>130.0</td>\n",
              "      <td>3504</td>\n",
              "      <td>12.00000</td>\n",
              "      <td>70</td>\n",
              "      <td>1</td>\n",
              "      <td>5</td>\n",
              "    </tr>\n",
              "    <tr>\n",
              "      <th>1</th>\n",
              "      <td>15.000000</td>\n",
              "      <td>5</td>\n",
              "      <td>350.0</td>\n",
              "      <td>165.0</td>\n",
              "      <td>3693</td>\n",
              "      <td>11.50000</td>\n",
              "      <td>76</td>\n",
              "      <td>1</td>\n",
              "      <td>2</td>\n",
              "    </tr>\n",
              "    <tr>\n",
              "      <th>2</th>\n",
              "      <td>23.514573</td>\n",
              "      <td>5</td>\n",
              "      <td>318.0</td>\n",
              "      <td>150.0</td>\n",
              "      <td>3436</td>\n",
              "      <td>11.00000</td>\n",
              "      <td>76</td>\n",
              "      <td>1</td>\n",
              "      <td>2</td>\n",
              "    </tr>\n",
              "    <tr>\n",
              "      <th>3</th>\n",
              "      <td>16.000000</td>\n",
              "      <td>5</td>\n",
              "      <td>304.0</td>\n",
              "      <td>150.0</td>\n",
              "      <td>3433</td>\n",
              "      <td>15.56809</td>\n",
              "      <td>76</td>\n",
              "      <td>1</td>\n",
              "      <td>4</td>\n",
              "    </tr>\n",
              "    <tr>\n",
              "      <th>4</th>\n",
              "      <td>17.000000</td>\n",
              "      <td>5</td>\n",
              "      <td>302.0</td>\n",
              "      <td>140.0</td>\n",
              "      <td>3449</td>\n",
              "      <td>10.50000</td>\n",
              "      <td>76</td>\n",
              "      <td>1</td>\n",
              "      <td>2</td>\n",
              "    </tr>\n",
              "  </tbody>\n",
              "</table>\n",
              "</div>\n",
              "      <button class=\"colab-df-convert\" onclick=\"convertToInteractive('df-f7bfba33-de3a-49b8-88d4-76e3bcaf3f40')\"\n",
              "              title=\"Convert this dataframe to an interactive table.\"\n",
              "              style=\"display:none;\">\n",
              "        \n",
              "  <svg xmlns=\"http://www.w3.org/2000/svg\" height=\"24px\"viewBox=\"0 0 24 24\"\n",
              "       width=\"24px\">\n",
              "    <path d=\"M0 0h24v24H0V0z\" fill=\"none\"/>\n",
              "    <path d=\"M18.56 5.44l.94 2.06.94-2.06 2.06-.94-2.06-.94-.94-2.06-.94 2.06-2.06.94zm-11 1L8.5 8.5l.94-2.06 2.06-.94-2.06-.94L8.5 2.5l-.94 2.06-2.06.94zm10 10l.94 2.06.94-2.06 2.06-.94-2.06-.94-.94-2.06-.94 2.06-2.06.94z\"/><path d=\"M17.41 7.96l-1.37-1.37c-.4-.4-.92-.59-1.43-.59-.52 0-1.04.2-1.43.59L10.3 9.45l-7.72 7.72c-.78.78-.78 2.05 0 2.83L4 21.41c.39.39.9.59 1.41.59.51 0 1.02-.2 1.41-.59l7.78-7.78 2.81-2.81c.8-.78.8-2.07 0-2.86zM5.41 20L4 18.59l7.72-7.72 1.47 1.35L5.41 20z\"/>\n",
              "  </svg>\n",
              "      </button>\n",
              "      \n",
              "  <style>\n",
              "    .colab-df-container {\n",
              "      display:flex;\n",
              "      flex-wrap:wrap;\n",
              "      gap: 12px;\n",
              "    }\n",
              "\n",
              "    .colab-df-convert {\n",
              "      background-color: #E8F0FE;\n",
              "      border: none;\n",
              "      border-radius: 50%;\n",
              "      cursor: pointer;\n",
              "      display: none;\n",
              "      fill: #1967D2;\n",
              "      height: 32px;\n",
              "      padding: 0 0 0 0;\n",
              "      width: 32px;\n",
              "    }\n",
              "\n",
              "    .colab-df-convert:hover {\n",
              "      background-color: #E2EBFA;\n",
              "      box-shadow: 0px 1px 2px rgba(60, 64, 67, 0.3), 0px 1px 3px 1px rgba(60, 64, 67, 0.15);\n",
              "      fill: #174EA6;\n",
              "    }\n",
              "\n",
              "    [theme=dark] .colab-df-convert {\n",
              "      background-color: #3B4455;\n",
              "      fill: #D2E3FC;\n",
              "    }\n",
              "\n",
              "    [theme=dark] .colab-df-convert:hover {\n",
              "      background-color: #434B5C;\n",
              "      box-shadow: 0px 1px 3px 1px rgba(0, 0, 0, 0.15);\n",
              "      filter: drop-shadow(0px 1px 2px rgba(0, 0, 0, 0.3));\n",
              "      fill: #FFFFFF;\n",
              "    }\n",
              "  </style>\n",
              "\n",
              "      <script>\n",
              "        const buttonEl =\n",
              "          document.querySelector('#df-f7bfba33-de3a-49b8-88d4-76e3bcaf3f40 button.colab-df-convert');\n",
              "        buttonEl.style.display =\n",
              "          google.colab.kernel.accessAllowed ? 'block' : 'none';\n",
              "\n",
              "        async function convertToInteractive(key) {\n",
              "          const element = document.querySelector('#df-f7bfba33-de3a-49b8-88d4-76e3bcaf3f40');\n",
              "          const dataTable =\n",
              "            await google.colab.kernel.invokeFunction('convertToInteractive',\n",
              "                                                     [key], {});\n",
              "          if (!dataTable) return;\n",
              "\n",
              "          const docLinkHtml = 'Like what you see? Visit the ' +\n",
              "            '<a target=\"_blank\" href=https://colab.research.google.com/notebooks/data_table.ipynb>data table notebook</a>'\n",
              "            + ' to learn more about interactive tables.';\n",
              "          element.innerHTML = '';\n",
              "          dataTable['output_type'] = 'display_data';\n",
              "          await google.colab.output.renderOutput(dataTable, element);\n",
              "          const docLink = document.createElement('div');\n",
              "          docLink.innerHTML = docLinkHtml;\n",
              "          element.appendChild(docLink);\n",
              "        }\n",
              "      </script>\n",
              "    </div>\n",
              "  </div>\n",
              "  "
            ]
          },
          "metadata": {},
          "execution_count": 32
        }
      ]
    },
    {
      "cell_type": "markdown",
      "source": [
        "### F\n",
        "Scatterplot of 'wt' and 'mpg' based on grouping."
      ],
      "metadata": {
        "id": "xl39wesrtzk7"
      }
    },
    {
      "cell_type": "code",
      "source": [
        "sns.scatterplot(data=car_pred, x='wt', y='acc', hue='groups', palette = [\"#fef65b\", \"#00ffff\", \"#ff0000\", \"#6e57d2\", \"#00ff00\", \"#0000ff\"])"
      ],
      "metadata": {
        "colab": {
          "base_uri": "https://localhost:8080/",
          "height": 297
        },
        "id": "Lk4ZjgWWtrr4",
        "outputId": "6b927782-4765-4194-86ae-65d37282e451"
      },
      "execution_count": 34,
      "outputs": [
        {
          "output_type": "execute_result",
          "data": {
            "text/plain": [
              "<matplotlib.axes._subplots.AxesSubplot at 0x7fd46f464dc0>"
            ]
          },
          "metadata": {},
          "execution_count": 34
        },
        {
          "output_type": "display_data",
          "data": {
            "text/plain": [
              "<Figure size 432x288 with 1 Axes>"
            ],
            "image/png": "[encoded data removed]"
          },
          "metadata": {
            "needs_background": "light"
          }
        }
      ]
    },
    {
      "cell_type": "code",
      "source": [
        "car_pred[\"groups\"].value_counts()"
      ],
      "metadata": {
        "colab": {
          "base_uri": "https://localhost:8080/"
        },
        "id": "_uBlJy8-vQEq",
        "outputId": "666a317f-e71c-48a2-f710-b3436c3b0e5b"
      },
      "execution_count": 35,
      "outputs": [
        {
          "output_type": "execute_result",
          "data": {
            "text/plain": [
              "1    229\n",
              "4     90\n",
              "0     64\n",
              "2     13\n",
              "5      1\n",
              "3      1\n",
              "Name: groups, dtype: int64"
            ]
          },
          "metadata": {},
          "execution_count": 35
        }
      ]
    },
    {
      "cell_type": "markdown",
      "source": [
        "So by looking at the value counts and the distribution of the clusters we see that majority of the data points come under 'group 1' in the center, while the rest are on the periphery."
      ],
      "metadata": {
        "id": "EfLaX3VbvZit"
      }
    },
    {
      "cell_type": "markdown",
      "source": [
        "### G\n",
        "Passing a new datapoint into the model and seeing which cluster it belongs to."
      ],
      "metadata": {
        "id": "HMKL5AQIv3AE"
      }
    },
    {
      "cell_type": "code",
      "source": [
        "new_datapoint = pd.DataFrame({\"mpg\":17.0, \"cyl\":8, \"disp\":310, \"hp\":140.0, \"wt\":3483, \"acc\":13.0, \"yr\":65, \"origin\":1}, index=[0])"
      ],
      "metadata": {
        "id": "qXHFr8aouJwo"
      },
      "execution_count": 36,
      "outputs": []
    },
    {
      "cell_type": "code",
      "source": [
        "prediction_new = model_2.predict(new_datapoint)\n",
        "print(f\"Cluster predicted: {prediction_new}\")"
      ],
      "metadata": {
        "colab": {
          "base_uri": "https://localhost:8080/"
        },
        "id": "AAgW7Nj0yOuK",
        "outputId": "30e5921c-b13a-4025-8b3a-d0161f78f8fc"
      },
      "execution_count": 37,
      "outputs": [
        {
          "output_type": "stream",
          "name": "stdout",
          "text": [
            "Cluster predicted: [2]\n"
          ]
        }
      ]
    },
    {
      "cell_type": "markdown",
      "source": [
        "# Part B"
      ],
      "metadata": {
        "id": "l3Z3TCr_yv7Q"
      }
    },
    {
      "cell_type": "markdown",
      "source": [
        "## 1\n"
      ],
      "metadata": {
        "id": "S0-bkNgtyz_m"
      }
    },
    {
      "cell_type": "markdown",
      "source": [
        "### A\n",
        "Read 'vehicle.csv' into a dataframe."
      ],
      "metadata": {
        "id": "8596EkWTy1os"
      }
    },
    {
      "cell_type": "code",
      "source": [
        "vehicle = pd.read_csv(\"/content/drive/MyDrive/Great Learning AIML/Unsupervised Learning/Unsupervised Learning Project/vehicle.csv\")"
      ],
      "metadata": {
        "id": "1QQhcg1iyx4i"
      },
      "execution_count": 38,
      "outputs": []
    },
    {
      "cell_type": "markdown",
      "source": [
        "### B\n",
        "Check for missing values and impute with best approach."
      ],
      "metadata": {
        "id": "Qv5LR4X2zf09"
      }
    },
    {
      "cell_type": "code",
      "source": [
        "def NanOrNot(df):\n",
        "  columns = df.columns\n",
        "  Nan_list = list()\n",
        "\n",
        "  for i in columns:\n",
        "    if len(df[i].unique()) > 1:\n",
        "      Nan_list.append(i)\n",
        "\n",
        "  return Nan_list"
      ],
      "metadata": {
        "id": "aNw93CsrzQaJ"
      },
      "execution_count": 39,
      "outputs": []
    },
    {
      "cell_type": "code",
      "source": [
        "isNa = vehicle.isna()\n",
        "Nan_list = NanOrNot(isNa.copy())\n",
        "if not(len(Nan_list)):\n",
        "  print(\"No Nan values in any columns\")\n",
        "  print(\"So none of the columns have any missing values.\")\n",
        "else:\n",
        "  print(\"Nan values found in following columns\")\n",
        "  for i in Nan_list: print(i)\n",
        "\n",
        "  print(\"Now let's check the percentage of missing values\\n\")\n",
        "\n",
        "  rows, col_num = vehicle.shape\n",
        "  for i in Nan_list:\n",
        "    print(f\"{i}: { round(( ( vehicle[i].isna().value_counts()[1] / rows ) * 100 ), 2) }%\")\n",
        "\n",
        "  # Now let's impute the missing values with mean or mode depending on datatype.\n",
        "\n",
        "  describe = vehicle.describe(include='all')\n",
        "\n",
        "  for i in Nan_list:\n",
        "    if vehicle[i].dtype == \"object\":\n",
        "      vehicle[i].fillna(value=describe.loc[\"freq\"][i], inplace=True)\n",
        "    else:\n",
        "      vehicle[i].fillna(value=describe.loc[\"mean\"][i], inplace=True)\n",
        "\n",
        "  print(\"All missing values have been dealt with\")"
      ],
      "metadata": {
        "colab": {
          "base_uri": "https://localhost:8080/"
        },
        "id": "U8MSJTaRzkzC",
        "outputId": "2c0d1ea0-0bb3-4556-a61b-83deb8bc5756"
      },
      "execution_count": 40,
      "outputs": [
        {
          "output_type": "stream",
          "name": "stdout",
          "text": [
            "Nan values found in following columns\n",
            "circularity\n",
            "distance_circularity\n",
            "radius_ratio\n",
            "pr.axis_aspect_ratio\n",
            "scatter_ratio\n",
            "elongatedness\n",
            "pr.axis_rectangularity\n",
            "scaled_variance\n",
            "scaled_variance.1\n",
            "scaled_radius_of_gyration\n",
            "scaled_radius_of_gyration.1\n",
            "skewness_about\n",
            "skewness_about.1\n",
            "skewness_about.2\n",
            "Now let's check the percentage of missing values\n",
            "\n",
            "circularity: 0.59%\n",
            "distance_circularity: 0.47%\n",
            "radius_ratio: 0.71%\n",
            "pr.axis_aspect_ratio: 0.24%\n",
            "scatter_ratio: 0.12%\n",
            "elongatedness: 0.12%\n",
            "pr.axis_rectangularity: 0.35%\n",
            "scaled_variance: 0.35%\n",
            "scaled_variance.1: 0.24%\n",
            "scaled_radius_of_gyration: 0.24%\n",
            "scaled_radius_of_gyration.1: 0.47%\n",
            "skewness_about: 0.71%\n",
            "skewness_about.1: 0.12%\n",
            "skewness_about.2: 0.12%\n",
            "All missing values have been dealt with\n"
          ]
        }
      ]
    },
    {
      "cell_type": "code",
      "source": [
        "vehicle.describe(include='all')"
      ],
      "metadata": {
        "colab": {
          "base_uri": "https://localhost:8080/",
          "height": 458
        },
        "id": "HWytmyo74xzr",
        "outputId": "3ceac615-c76d-44e4-c3a5-833d76a0cf29"
      },
      "execution_count": 41,
      "outputs": [
        {
          "output_type": "execute_result",
          "data": {
            "text/plain": [
              "        compactness  circularity  distance_circularity  radius_ratio  \\\n",
              "count    846.000000   846.000000            846.000000    846.000000   \n",
              "unique          NaN          NaN                   NaN           NaN   \n",
              "top             NaN          NaN                   NaN           NaN   \n",
              "freq            NaN          NaN                   NaN           NaN   \n",
              "mean      93.678487    44.828775             82.110451    168.888095   \n",
              "std        8.234474     6.133943             15.740902     33.400979   \n",
              "min       73.000000    33.000000             40.000000    104.000000   \n",
              "25%       87.000000    40.000000             70.000000    141.000000   \n",
              "50%       93.000000    44.000000             80.000000    168.000000   \n",
              "75%      100.000000    49.000000             98.000000    195.000000   \n",
              "max      119.000000    59.000000            112.000000    333.000000   \n",
              "\n",
              "        pr.axis_aspect_ratio  max.length_aspect_ratio  scatter_ratio  \\\n",
              "count             846.000000               846.000000     846.000000   \n",
              "unique                   NaN                      NaN            NaN   \n",
              "top                      NaN                      NaN            NaN   \n",
              "freq                     NaN                      NaN            NaN   \n",
              "mean               61.678910                 8.567376     168.901775   \n",
              "std                 7.882119                 4.601217      33.195188   \n",
              "min                47.000000                 2.000000     112.000000   \n",
              "25%                57.000000                 7.000000     147.000000   \n",
              "50%                61.000000                 8.000000     157.000000   \n",
              "75%                65.000000                10.000000     198.000000   \n",
              "max               138.000000                55.000000     265.000000   \n",
              "\n",
              "        elongatedness  pr.axis_rectangularity  max.length_rectangularity  \\\n",
              "count      846.000000              846.000000                 846.000000   \n",
              "unique            NaN                     NaN                        NaN   \n",
              "top               NaN                     NaN                        NaN   \n",
              "freq              NaN                     NaN                        NaN   \n",
              "mean        40.933728               20.582444                 147.998818   \n",
              "std          7.811559                2.588326                  14.515652   \n",
              "min         26.000000               17.000000                 118.000000   \n",
              "25%         33.000000               19.000000                 137.000000   \n",
              "50%         43.000000               20.000000                 146.000000   \n",
              "75%         46.000000               23.000000                 159.000000   \n",
              "max         61.000000               29.000000                 188.000000   \n",
              "\n",
              "        scaled_variance  scaled_variance.1  scaled_radius_of_gyration  \\\n",
              "count        846.000000         846.000000                 846.000000   \n",
              "unique              NaN                NaN                        NaN   \n",
              "top                 NaN                NaN                        NaN   \n",
              "freq                NaN                NaN                        NaN   \n",
              "mean         188.631079         439.494076                 174.709716   \n",
              "std           31.355195         176.457706                  32.546223   \n",
              "min          130.000000         184.000000                 109.000000   \n",
              "25%          167.000000         318.250000                 149.000000   \n",
              "50%          179.000000         364.000000                 174.000000   \n",
              "75%          217.000000         586.750000                 198.000000   \n",
              "max          320.000000        1018.000000                 268.000000   \n",
              "\n",
              "        scaled_radius_of_gyration.1  skewness_about  skewness_about.1  \\\n",
              "count                    846.000000      846.000000        846.000000   \n",
              "unique                          NaN             NaN               NaN   \n",
              "top                             NaN             NaN               NaN   \n",
              "freq                            NaN             NaN               NaN   \n",
              "mean                      72.447743        6.364286         12.602367   \n",
              "std                        7.468450        4.903148          8.930792   \n",
              "min                       59.000000        0.000000          0.000000   \n",
              "25%                       67.000000        2.000000          5.000000   \n",
              "50%                       72.000000        6.000000         11.000000   \n",
              "75%                       75.000000        9.000000         19.000000   \n",
              "max                      135.000000       22.000000         41.000000   \n",
              "\n",
              "        skewness_about.2  hollows_ratio class  \n",
              "count         846.000000     846.000000   846  \n",
              "unique               NaN            NaN     3  \n",
              "top                  NaN            NaN   car  \n",
              "freq                 NaN            NaN   429  \n",
              "mean          188.919527     195.632388   NaN  \n",
              "std             6.152166       7.438797   NaN  \n",
              "min           176.000000     181.000000   NaN  \n",
              "25%           184.000000     190.250000   NaN  \n",
              "50%           188.000000     197.000000   NaN  \n",
              "75%           193.000000     201.000000   NaN  \n",
              "max           206.000000     211.000000   NaN  "
            ],
            "text/html": [
              "\n",
              "  <div id=\"df-f8b0b1ff-75f1-4cc4-a84d-a3b9df41e445\">\n",
              "    <div class=\"colab-df-container\">\n",
              "      <div>\n",
              "<style scoped>\n",
              "    .dataframe tbody tr th:only-of-type {\n",
              "        vertical-align: middle;\n",
              "    }\n",
              "\n",
              "    .dataframe tbody tr th {\n",
              "        vertical-align: top;\n",
              "    }\n",
              "\n",
              "    .dataframe thead th {\n",
              "        text-align: right;\n",
              "    }\n",
              "</style>\n",
              "<table border=\"1\" class=\"dataframe\">\n",
              "  <thead>\n",
              "    <tr style=\"text-align: right;\">\n",
              "      <th></th>\n",
              "      <th>compactness</th>\n",
              "      <th>circularity</th>\n",
              "      <th>distance_circularity</th>\n",
              "      <th>radius_ratio</th>\n",
              "      <th>pr.axis_aspect_ratio</th>\n",
              "      <th>max.length_aspect_ratio</th>\n",
              "      <th>scatter_ratio</th>\n",
              "      <th>elongatedness</th>\n",
              "      <th>pr.axis_rectangularity</th>\n",
              "      <th>max.length_rectangularity</th>\n",
              "      <th>scaled_variance</th>\n",
              "      <th>scaled_variance.1</th>\n",
              "      <th>scaled_radius_of_gyration</th>\n",
              "      <th>scaled_radius_of_gyration.1</th>\n",
              "      <th>skewness_about</th>\n",
              "      <th>skewness_about.1</th>\n",
              "      <th>skewness_about.2</th>\n",
              "      <th>hollows_ratio</th>\n",
              "      <th>class</th>\n",
              "    </tr>\n",
              "  </thead>\n",
              "  <tbody>\n",
              "    <tr>\n",
              "      <th>count</th>\n",
              "      <td>846.000000</td>\n",
              "      <td>846.000000</td>\n",
              "      <td>846.000000</td>\n",
              "      <td>846.000000</td>\n",
              "      <td>846.000000</td>\n",
              "      <td>846.000000</td>\n",
              "      <td>846.000000</td>\n",
              "      <td>846.000000</td>\n",
              "      <td>846.000000</td>\n",
              "      <td>846.000000</td>\n",
              "      <td>846.000000</td>\n",
              "      <td>846.000000</td>\n",
              "      <td>846.000000</td>\n",
              "      <td>846.000000</td>\n",
              "      <td>846.000000</td>\n",
              "      <td>846.000000</td>\n",
              "      <td>846.000000</td>\n",
              "      <td>846.000000</td>\n",
              "      <td>846</td>\n",
              "    </tr>\n",
              "    <tr>\n",
              "      <th>unique</th>\n",
              "      <td>NaN</td>\n",
              "      <td>NaN</td>\n",
              "      <td>NaN</td>\n",
              "      <td>NaN</td>\n",
              "      <td>NaN</td>\n",
              "      <td>NaN</td>\n",
              "      <td>NaN</td>\n",
              "      <td>NaN</td>\n",
              "      <td>NaN</td>\n",
              "      <td>NaN</td>\n",
              "      <td>NaN</td>\n",
              "      <td>NaN</td>\n",
              "      <td>NaN</td>\n",
              "      <td>NaN</td>\n",
              "      <td>NaN</td>\n",
              "      <td>NaN</td>\n",
              "      <td>NaN</td>\n",
              "      <td>NaN</td>\n",
              "      <td>3</td>\n",
              "    </tr>\n",
              "    <tr>\n",
              "      <th>top</th>\n",
              "      <td>NaN</td>\n",
              "      <td>NaN</td>\n",
              "      <td>NaN</td>\n",
              "      <td>NaN</td>\n",
              "      <td>NaN</td>\n",
              "      <td>NaN</td>\n",
              "      <td>NaN</td>\n",
              "      <td>NaN</td>\n",
              "      <td>NaN</td>\n",
              "      <td>NaN</td>\n",
              "      <td>NaN</td>\n",
              "      <td>NaN</td>\n",
              "      <td>NaN</td>\n",
              "      <td>NaN</td>\n",
              "      <td>NaN</td>\n",
              "      <td>NaN</td>\n",
              "      <td>NaN</td>\n",
              "      <td>NaN</td>\n",
              "      <td>car</td>\n",
              "    </tr>\n",
              "    <tr>\n",
              "      <th>freq</th>\n",
              "      <td>NaN</td>\n",
              "      <td>NaN</td>\n",
              "      <td>NaN</td>\n",
              "      <td>NaN</td>\n",
              "      <td>NaN</td>\n",
              "      <td>NaN</td>\n",
              "      <td>NaN</td>\n",
              "      <td>NaN</td>\n",
              "      <td>NaN</td>\n",
              "      <td>NaN</td>\n",
              "      <td>NaN</td>\n",
              "      <td>NaN</td>\n",
              "      <td>NaN</td>\n",
              "      <td>NaN</td>\n",
              "      <td>NaN</td>\n",
              "      <td>NaN</td>\n",
              "      <td>NaN</td>\n",
              "      <td>NaN</td>\n",
              "      <td>429</td>\n",
              "    </tr>\n",
              "    <tr>\n",
              "      <th>mean</th>\n",
              "      <td>93.678487</td>\n",
              "      <td>44.828775</td>\n",
              "      <td>82.110451</td>\n",
              "      <td>168.888095</td>\n",
              "      <td>61.678910</td>\n",
              "      <td>8.567376</td>\n",
              "      <td>168.901775</td>\n",
              "      <td>40.933728</td>\n",
              "      <td>20.582444</td>\n",
              "      <td>147.998818</td>\n",
              "      <td>188.631079</td>\n",
              "      <td>439.494076</td>\n",
              "      <td>174.709716</td>\n",
              "      <td>72.447743</td>\n",
              "      <td>6.364286</td>\n",
              "      <td>12.602367</td>\n",
              "      <td>188.919527</td>\n",
              "      <td>195.632388</td>\n",
              "      <td>NaN</td>\n",
              "    </tr>\n",
              "    <tr>\n",
              "      <th>std</th>\n",
              "      <td>8.234474</td>\n",
              "      <td>6.133943</td>\n",
              "      <td>15.740902</td>\n",
              "      <td>33.400979</td>\n",
              "      <td>7.882119</td>\n",
              "      <td>4.601217</td>\n",
              "      <td>33.195188</td>\n",
              "      <td>7.811559</td>\n",
              "      <td>2.588326</td>\n",
              "      <td>14.515652</td>\n",
              "      <td>31.355195</td>\n",
              "      <td>176.457706</td>\n",
              "      <td>32.546223</td>\n",
              "      <td>7.468450</td>\n",
              "      <td>4.903148</td>\n",
              "      <td>8.930792</td>\n",
              "      <td>6.152166</td>\n",
              "      <td>7.438797</td>\n",
              "      <td>NaN</td>\n",
              "    </tr>\n",
              "    <tr>\n",
              "      <th>min</th>\n",
              "      <td>73.000000</td>\n",
              "      <td>33.000000</td>\n",
              "      <td>40.000000</td>\n",
              "      <td>104.000000</td>\n",
              "      <td>47.000000</td>\n",
              "      <td>2.000000</td>\n",
              "      <td>112.000000</td>\n",
              "      <td>26.000000</td>\n",
              "      <td>17.000000</td>\n",
              "      <td>118.000000</td>\n",
              "      <td>130.000000</td>\n",
              "      <td>184.000000</td>\n",
              "      <td>109.000000</td>\n",
              "      <td>59.000000</td>\n",
              "      <td>0.000000</td>\n",
              "      <td>0.000000</td>\n",
              "      <td>176.000000</td>\n",
              "      <td>181.000000</td>\n",
              "      <td>NaN</td>\n",
              "    </tr>\n",
              "    <tr>\n",
              "      <th>25%</th>\n",
              "      <td>87.000000</td>\n",
              "      <td>40.000000</td>\n",
              "      <td>70.000000</td>\n",
              "      <td>141.000000</td>\n",
              "      <td>57.000000</td>\n",
              "      <td>7.000000</td>\n",
              "      <td>147.000000</td>\n",
              "      <td>33.000000</td>\n",
              "      <td>19.000000</td>\n",
              "      <td>137.000000</td>\n",
              "      <td>167.000000</td>\n",
              "      <td>318.250000</td>\n",
              "      <td>149.000000</td>\n",
              "      <td>67.000000</td>\n",
              "      <td>2.000000</td>\n",
              "      <td>5.000000</td>\n",
              "      <td>184.000000</td>\n",
              "      <td>190.250000</td>\n",
              "      <td>NaN</td>\n",
              "    </tr>\n",
              "    <tr>\n",
              "      <th>50%</th>\n",
              "      <td>93.000000</td>\n",
              "      <td>44.000000</td>\n",
              "      <td>80.000000</td>\n",
              "      <td>168.000000</td>\n",
              "      <td>61.000000</td>\n",
              "      <td>8.000000</td>\n",
              "      <td>157.000000</td>\n",
              "      <td>43.000000</td>\n",
              "      <td>20.000000</td>\n",
              "      <td>146.000000</td>\n",
              "      <td>179.000000</td>\n",
              "      <td>364.000000</td>\n",
              "      <td>174.000000</td>\n",
              "      <td>72.000000</td>\n",
              "      <td>6.000000</td>\n",
              "      <td>11.000000</td>\n",
              "      <td>188.000000</td>\n",
              "      <td>197.000000</td>\n",
              "      <td>NaN</td>\n",
              "    </tr>\n",
              "    <tr>\n",
              "      <th>75%</th>\n",
              "      <td>100.000000</td>\n",
              "      <td>49.000000</td>\n",
              "      <td>98.000000</td>\n",
              "      <td>195.000000</td>\n",
              "      <td>65.000000</td>\n",
              "      <td>10.000000</td>\n",
              "      <td>198.000000</td>\n",
              "      <td>46.000000</td>\n",
              "      <td>23.000000</td>\n",
              "      <td>159.000000</td>\n",
              "      <td>217.000000</td>\n",
              "      <td>586.750000</td>\n",
              "      <td>198.000000</td>\n",
              "      <td>75.000000</td>\n",
              "      <td>9.000000</td>\n",
              "      <td>19.000000</td>\n",
              "      <td>193.000000</td>\n",
              "      <td>201.000000</td>\n",
              "      <td>NaN</td>\n",
              "    </tr>\n",
              "    <tr>\n",
              "      <th>max</th>\n",
              "      <td>119.000000</td>\n",
              "      <td>59.000000</td>\n",
              "      <td>112.000000</td>\n",
              "      <td>333.000000</td>\n",
              "      <td>138.000000</td>\n",
              "      <td>55.000000</td>\n",
              "      <td>265.000000</td>\n",
              "      <td>61.000000</td>\n",
              "      <td>29.000000</td>\n",
              "      <td>188.000000</td>\n",
              "      <td>320.000000</td>\n",
              "      <td>1018.000000</td>\n",
              "      <td>268.000000</td>\n",
              "      <td>135.000000</td>\n",
              "      <td>22.000000</td>\n",
              "      <td>41.000000</td>\n",
              "      <td>206.000000</td>\n",
              "      <td>211.000000</td>\n",
              "      <td>NaN</td>\n",
              "    </tr>\n",
              "  </tbody>\n",
              "</table>\n",
              "</div>\n",
              "      <button class=\"colab-df-convert\" onclick=\"convertToInteractive('df-f8b0b1ff-75f1-4cc4-a84d-a3b9df41e445')\"\n",
              "              title=\"Convert this dataframe to an interactive table.\"\n",
              "              style=\"display:none;\">\n",
              "        \n",
              "  <svg xmlns=\"http://www.w3.org/2000/svg\" height=\"24px\"viewBox=\"0 0 24 24\"\n",
              "       width=\"24px\">\n",
              "    <path d=\"M0 0h24v24H0V0z\" fill=\"none\"/>\n",
              "    <path d=\"M18.56 5.44l.94 2.06.94-2.06 2.06-.94-2.06-.94-.94-2.06-.94 2.06-2.06.94zm-11 1L8.5 8.5l.94-2.06 2.06-.94-2.06-.94L8.5 2.5l-.94 2.06-2.06.94zm10 10l.94 2.06.94-2.06 2.06-.94-2.06-.94-.94-2.06-.94 2.06-2.06.94z\"/><path d=\"M17.41 7.96l-1.37-1.37c-.4-.4-.92-.59-1.43-.59-.52 0-1.04.2-1.43.59L10.3 9.45l-7.72 7.72c-.78.78-.78 2.05 0 2.83L4 21.41c.39.39.9.59 1.41.59.51 0 1.02-.2 1.41-.59l7.78-7.78 2.81-2.81c.8-.78.8-2.07 0-2.86zM5.41 20L4 18.59l7.72-7.72 1.47 1.35L5.41 20z\"/>\n",
              "  </svg>\n",
              "      </button>\n",
              "      \n",
              "  <style>\n",
              "    .colab-df-container {\n",
              "      display:flex;\n",
              "      flex-wrap:wrap;\n",
              "      gap: 12px;\n",
              "    }\n",
              "\n",
              "    .colab-df-convert {\n",
              "      background-color: #E8F0FE;\n",
              "      border: none;\n",
              "      border-radius: 50%;\n",
              "      cursor: pointer;\n",
              "      display: none;\n",
              "      fill: #1967D2;\n",
              "      height: 32px;\n",
              "      padding: 0 0 0 0;\n",
              "      width: 32px;\n",
              "    }\n",
              "\n",
              "    .colab-df-convert:hover {\n",
              "      background-color: #E2EBFA;\n",
              "      box-shadow: 0px 1px 2px rgba(60, 64, 67, 0.3), 0px 1px 3px 1px rgba(60, 64, 67, 0.15);\n",
              "      fill: #174EA6;\n",
              "    }\n",
              "\n",
              "    [theme=dark] .colab-df-convert {\n",
              "      background-color: #3B4455;\n",
              "      fill: #D2E3FC;\n",
              "    }\n",
              "\n",
              "    [theme=dark] .colab-df-convert:hover {\n",
              "      background-color: #434B5C;\n",
              "      box-shadow: 0px 1px 3px 1px rgba(0, 0, 0, 0.15);\n",
              "      filter: drop-shadow(0px 1px 2px rgba(0, 0, 0, 0.3));\n",
              "      fill: #FFFFFF;\n",
              "    }\n",
              "  </style>\n",
              "\n",
              "      <script>\n",
              "        const buttonEl =\n",
              "          document.querySelector('#df-f8b0b1ff-75f1-4cc4-a84d-a3b9df41e445 button.colab-df-convert');\n",
              "        buttonEl.style.display =\n",
              "          google.colab.kernel.accessAllowed ? 'block' : 'none';\n",
              "\n",
              "        async function convertToInteractive(key) {\n",
              "          const element = document.querySelector('#df-f8b0b1ff-75f1-4cc4-a84d-a3b9df41e445');\n",
              "          const dataTable =\n",
              "            await google.colab.kernel.invokeFunction('convertToInteractive',\n",
              "                                                     [key], {});\n",
              "          if (!dataTable) return;\n",
              "\n",
              "          const docLinkHtml = 'Like what you see? Visit the ' +\n",
              "            '<a target=\"_blank\" href=https://colab.research.google.com/notebooks/data_table.ipynb>data table notebook</a>'\n",
              "            + ' to learn more about interactive tables.';\n",
              "          element.innerHTML = '';\n",
              "          dataTable['output_type'] = 'display_data';\n",
              "          await google.colab.output.renderOutput(dataTable, element);\n",
              "          const docLink = document.createElement('div');\n",
              "          docLink.innerHTML = docLinkHtml;\n",
              "          element.appendChild(docLink);\n",
              "        }\n",
              "      </script>\n",
              "    </div>\n",
              "  </div>\n",
              "  "
            ]
          },
          "metadata": {},
          "execution_count": 41
        }
      ]
    },
    {
      "cell_type": "code",
      "source": [
        "vehicle.head()"
      ],
      "metadata": {
        "colab": {
          "base_uri": "https://localhost:8080/",
          "height": 270
        },
        "id": "GOXZ5QOo5V41",
        "outputId": "7b27df29-b98f-418c-a353-a0c5120cb979"
      },
      "execution_count": 42,
      "outputs": [
        {
          "output_type": "execute_result",
          "data": {
            "text/plain": [
              "   compactness  circularity  distance_circularity  radius_ratio  \\\n",
              "0           95         48.0                  83.0         178.0   \n",
              "1           91         41.0                  84.0         141.0   \n",
              "2          104         50.0                 106.0         209.0   \n",
              "3           93         41.0                  82.0         159.0   \n",
              "4           85         44.0                  70.0         205.0   \n",
              "\n",
              "   pr.axis_aspect_ratio  max.length_aspect_ratio  scatter_ratio  \\\n",
              "0                  72.0                       10          162.0   \n",
              "1                  57.0                        9          149.0   \n",
              "2                  66.0                       10          207.0   \n",
              "3                  63.0                        9          144.0   \n",
              "4                 103.0                       52          149.0   \n",
              "\n",
              "   elongatedness  pr.axis_rectangularity  max.length_rectangularity  \\\n",
              "0           42.0                    20.0                        159   \n",
              "1           45.0                    19.0                        143   \n",
              "2           32.0                    23.0                        158   \n",
              "3           46.0                    19.0                        143   \n",
              "4           45.0                    19.0                        144   \n",
              "\n",
              "   scaled_variance  scaled_variance.1  scaled_radius_of_gyration  \\\n",
              "0            176.0              379.0                      184.0   \n",
              "1            170.0              330.0                      158.0   \n",
              "2            223.0              635.0                      220.0   \n",
              "3            160.0              309.0                      127.0   \n",
              "4            241.0              325.0                      188.0   \n",
              "\n",
              "   scaled_radius_of_gyration.1  skewness_about  skewness_about.1  \\\n",
              "0                         70.0             6.0              16.0   \n",
              "1                         72.0             9.0              14.0   \n",
              "2                         73.0            14.0               9.0   \n",
              "3                         63.0             6.0              10.0   \n",
              "4                        127.0             9.0              11.0   \n",
              "\n",
              "   skewness_about.2  hollows_ratio class  \n",
              "0             187.0            197   van  \n",
              "1             189.0            199   van  \n",
              "2             188.0            196   car  \n",
              "3             199.0            207   van  \n",
              "4             180.0            183   bus  "
            ],
            "text/html": [
              "\n",
              "  <div id=\"df-11f3e81b-42b4-4370-adf4-2d27cd842b92\">\n",
              "    <div class=\"colab-df-container\">\n",
              "      <div>\n",
              "<style scoped>\n",
              "    .dataframe tbody tr th:only-of-type {\n",
              "        vertical-align: middle;\n",
              "    }\n",
              "\n",
              "    .dataframe tbody tr th {\n",
              "        vertical-align: top;\n",
              "    }\n",
              "\n",
              "    .dataframe thead th {\n",
              "        text-align: right;\n",
              "    }\n",
              "</style>\n",
              "<table border=\"1\" class=\"dataframe\">\n",
              "  <thead>\n",
              "    <tr style=\"text-align: right;\">\n",
              "      <th></th>\n",
              "      <th>compactness</th>\n",
              "      <th>circularity</th>\n",
              "      <th>distance_circularity</th>\n",
              "      <th>radius_ratio</th>\n",
              "      <th>pr.axis_aspect_ratio</th>\n",
              "      <th>max.length_aspect_ratio</th>\n",
              "      <th>scatter_ratio</th>\n",
              "      <th>elongatedness</th>\n",
              "      <th>pr.axis_rectangularity</th>\n",
              "      <th>max.length_rectangularity</th>\n",
              "      <th>scaled_variance</th>\n",
              "      <th>scaled_variance.1</th>\n",
              "      <th>scaled_radius_of_gyration</th>\n",
              "      <th>scaled_radius_of_gyration.1</th>\n",
              "      <th>skewness_about</th>\n",
              "      <th>skewness_about.1</th>\n",
              "      <th>skewness_about.2</th>\n",
              "      <th>hollows_ratio</th>\n",
              "      <th>class</th>\n",
              "    </tr>\n",
              "  </thead>\n",
              "  <tbody>\n",
              "    <tr>\n",
              "      <th>0</th>\n",
              "      <td>95</td>\n",
              "      <td>48.0</td>\n",
              "      <td>83.0</td>\n",
              "      <td>178.0</td>\n",
              "      <td>72.0</td>\n",
              "      <td>10</td>\n",
              "      <td>162.0</td>\n",
              "      <td>42.0</td>\n",
              "      <td>20.0</td>\n",
              "      <td>159</td>\n",
              "      <td>176.0</td>\n",
              "      <td>379.0</td>\n",
              "      <td>184.0</td>\n",
              "      <td>70.0</td>\n",
              "      <td>6.0</td>\n",
              "      <td>16.0</td>\n",
              "      <td>187.0</td>\n",
              "      <td>197</td>\n",
              "      <td>van</td>\n",
              "    </tr>\n",
              "    <tr>\n",
              "      <th>1</th>\n",
              "      <td>91</td>\n",
              "      <td>41.0</td>\n",
              "      <td>84.0</td>\n",
              "      <td>141.0</td>\n",
              "      <td>57.0</td>\n",
              "      <td>9</td>\n",
              "      <td>149.0</td>\n",
              "      <td>45.0</td>\n",
              "      <td>19.0</td>\n",
              "      <td>143</td>\n",
              "      <td>170.0</td>\n",
              "      <td>330.0</td>\n",
              "      <td>158.0</td>\n",
              "      <td>72.0</td>\n",
              "      <td>9.0</td>\n",
              "      <td>14.0</td>\n",
              "      <td>189.0</td>\n",
              "      <td>199</td>\n",
              "      <td>van</td>\n",
              "    </tr>\n",
              "    <tr>\n",
              "      <th>2</th>\n",
              "      <td>104</td>\n",
              "      <td>50.0</td>\n",
              "      <td>106.0</td>\n",
              "      <td>209.0</td>\n",
              "      <td>66.0</td>\n",
              "      <td>10</td>\n",
              "      <td>207.0</td>\n",
              "      <td>32.0</td>\n",
              "      <td>23.0</td>\n",
              "      <td>158</td>\n",
              "      <td>223.0</td>\n",
              "      <td>635.0</td>\n",
              "      <td>220.0</td>\n",
              "      <td>73.0</td>\n",
              "      <td>14.0</td>\n",
              "      <td>9.0</td>\n",
              "      <td>188.0</td>\n",
              "      <td>196</td>\n",
              "      <td>car</td>\n",
              "    </tr>\n",
              "    <tr>\n",
              "      <th>3</th>\n",
              "      <td>93</td>\n",
              "      <td>41.0</td>\n",
              "      <td>82.0</td>\n",
              "      <td>159.0</td>\n",
              "      <td>63.0</td>\n",
              "      <td>9</td>\n",
              "      <td>144.0</td>\n",
              "      <td>46.0</td>\n",
              "      <td>19.0</td>\n",
              "      <td>143</td>\n",
              "      <td>160.0</td>\n",
              "      <td>309.0</td>\n",
              "      <td>127.0</td>\n",
              "      <td>63.0</td>\n",
              "      <td>6.0</td>\n",
              "      <td>10.0</td>\n",
              "      <td>199.0</td>\n",
              "      <td>207</td>\n",
              "      <td>van</td>\n",
              "    </tr>\n",
              "    <tr>\n",
              "      <th>4</th>\n",
              "      <td>85</td>\n",
              "      <td>44.0</td>\n",
              "      <td>70.0</td>\n",
              "      <td>205.0</td>\n",
              "      <td>103.0</td>\n",
              "      <td>52</td>\n",
              "      <td>149.0</td>\n",
              "      <td>45.0</td>\n",
              "      <td>19.0</td>\n",
              "      <td>144</td>\n",
              "      <td>241.0</td>\n",
              "      <td>325.0</td>\n",
              "      <td>188.0</td>\n",
              "      <td>127.0</td>\n",
              "      <td>9.0</td>\n",
              "      <td>11.0</td>\n",
              "      <td>180.0</td>\n",
              "      <td>183</td>\n",
              "      <td>bus</td>\n",
              "    </tr>\n",
              "  </tbody>\n",
              "</table>\n",
              "</div>\n",
              "      <button class=\"colab-df-convert\" onclick=\"convertToInteractive('df-11f3e81b-42b4-4370-adf4-2d27cd842b92')\"\n",
              "              title=\"Convert this dataframe to an interactive table.\"\n",
              "              style=\"display:none;\">\n",
              "        \n",
              "  <svg xmlns=\"http://www.w3.org/2000/svg\" height=\"24px\"viewBox=\"0 0 24 24\"\n",
              "       width=\"24px\">\n",
              "    <path d=\"M0 0h24v24H0V0z\" fill=\"none\"/>\n",
              "    <path d=\"M18.56 5.44l.94 2.06.94-2.06 2.06-.94-2.06-.94-.94-2.06-.94 2.06-2.06.94zm-11 1L8.5 8.5l.94-2.06 2.06-.94-2.06-.94L8.5 2.5l-.94 2.06-2.06.94zm10 10l.94 2.06.94-2.06 2.06-.94-2.06-.94-.94-2.06-.94 2.06-2.06.94z\"/><path d=\"M17.41 7.96l-1.37-1.37c-.4-.4-.92-.59-1.43-.59-.52 0-1.04.2-1.43.59L10.3 9.45l-7.72 7.72c-.78.78-.78 2.05 0 2.83L4 21.41c.39.39.9.59 1.41.59.51 0 1.02-.2 1.41-.59l7.78-7.78 2.81-2.81c.8-.78.8-2.07 0-2.86zM5.41 20L4 18.59l7.72-7.72 1.47 1.35L5.41 20z\"/>\n",
              "  </svg>\n",
              "      </button>\n",
              "      \n",
              "  <style>\n",
              "    .colab-df-container {\n",
              "      display:flex;\n",
              "      flex-wrap:wrap;\n",
              "      gap: 12px;\n",
              "    }\n",
              "\n",
              "    .colab-df-convert {\n",
              "      background-color: #E8F0FE;\n",
              "      border: none;\n",
              "      border-radius: 50%;\n",
              "      cursor: pointer;\n",
              "      display: none;\n",
              "      fill: #1967D2;\n",
              "      height: 32px;\n",
              "      padding: 0 0 0 0;\n",
              "      width: 32px;\n",
              "    }\n",
              "\n",
              "    .colab-df-convert:hover {\n",
              "      background-color: #E2EBFA;\n",
              "      box-shadow: 0px 1px 2px rgba(60, 64, 67, 0.3), 0px 1px 3px 1px rgba(60, 64, 67, 0.15);\n",
              "      fill: #174EA6;\n",
              "    }\n",
              "\n",
              "    [theme=dark] .colab-df-convert {\n",
              "      background-color: #3B4455;\n",
              "      fill: #D2E3FC;\n",
              "    }\n",
              "\n",
              "    [theme=dark] .colab-df-convert:hover {\n",
              "      background-color: #434B5C;\n",
              "      box-shadow: 0px 1px 3px 1px rgba(0, 0, 0, 0.15);\n",
              "      filter: drop-shadow(0px 1px 2px rgba(0, 0, 0, 0.3));\n",
              "      fill: #FFFFFF;\n",
              "    }\n",
              "  </style>\n",
              "\n",
              "      <script>\n",
              "        const buttonEl =\n",
              "          document.querySelector('#df-11f3e81b-42b4-4370-adf4-2d27cd842b92 button.colab-df-convert');\n",
              "        buttonEl.style.display =\n",
              "          google.colab.kernel.accessAllowed ? 'block' : 'none';\n",
              "\n",
              "        async function convertToInteractive(key) {\n",
              "          const element = document.querySelector('#df-11f3e81b-42b4-4370-adf4-2d27cd842b92');\n",
              "          const dataTable =\n",
              "            await google.colab.kernel.invokeFunction('convertToInteractive',\n",
              "                                                     [key], {});\n",
              "          if (!dataTable) return;\n",
              "\n",
              "          const docLinkHtml = 'Like what you see? Visit the ' +\n",
              "            '<a target=\"_blank\" href=https://colab.research.google.com/notebooks/data_table.ipynb>data table notebook</a>'\n",
              "            + ' to learn more about interactive tables.';\n",
              "          element.innerHTML = '';\n",
              "          dataTable['output_type'] = 'display_data';\n",
              "          await google.colab.output.renderOutput(dataTable, element);\n",
              "          const docLink = document.createElement('div');\n",
              "          docLink.innerHTML = docLinkHtml;\n",
              "          element.appendChild(docLink);\n",
              "        }\n",
              "      </script>\n",
              "    </div>\n",
              "  </div>\n",
              "  "
            ]
          },
          "metadata": {},
          "execution_count": 42
        }
      ]
    },
    {
      "cell_type": "markdown",
      "source": [
        "### C\n",
        "Plotting a pie-chart for classes feature."
      ],
      "metadata": {
        "id": "AvUpS9T_5pXV"
      }
    },
    {
      "cell_type": "code",
      "source": [
        "vehicle[\"class\"].value_counts()"
      ],
      "metadata": {
        "colab": {
          "base_uri": "https://localhost:8080/"
        },
        "id": "_2-Wkrgs6yoA",
        "outputId": "1979a8bd-2d59-4603-f402-6ac37205ecf4"
      },
      "execution_count": 43,
      "outputs": [
        {
          "output_type": "execute_result",
          "data": {
            "text/plain": [
              "car    429\n",
              "bus    218\n",
              "van    199\n",
              "Name: class, dtype: int64"
            ]
          },
          "metadata": {},
          "execution_count": 43
        }
      ]
    },
    {
      "cell_type": "code",
      "source": [
        "plt.pie(vehicle[\"class\"].value_counts(), labels=vehicle[\"class\"].value_counts().index, autopct='%.0f%%');"
      ],
      "metadata": {
        "colab": {
          "base_uri": "https://localhost:8080/",
          "height": 248
        },
        "id": "xGCnDGfr5f2U",
        "outputId": "af339bd2-d2cd-4c73-e5a0-2e771239ad2d"
      },
      "execution_count": 44,
      "outputs": [
        {
          "output_type": "display_data",
          "data": {
            "text/plain": [
              "<Figure size 432x288 with 1 Axes>"
            ],
            "image/png": "[encoded data removed]"
          },
          "metadata": {}
        }
      ]
    },
    {
      "cell_type": "markdown",
      "source": [
        "### D\n",
        "Check for duplicate values and impute with best approach."
      ],
      "metadata": {
        "id": "lHUGlCIWIZCl"
      }
    },
    {
      "cell_type": "code",
      "source": [
        "describe = vehicle.describe()\n",
        "mean = \"mean\"\n",
        "\n",
        "for i in vehicle.columns:\n",
        "  if vehicle[i].dtype != \"object\":\n",
        "    bool_series = vehicle[i].duplicated(keep=\"first\")\n",
        "\n",
        "    for j, k in zip(bool_series, range(len(vehicle[i]))):\n",
        "      if j == True:\n",
        "        vehicle.at[k, i] = describe.loc[mean][i]"
      ],
      "metadata": {
        "id": "ynnJ_YsH6YtV"
      },
      "execution_count": 45,
      "outputs": []
    },
    {
      "cell_type": "markdown",
      "source": [
        "## 2\n"
      ],
      "metadata": {
        "id": "YbGOyFioKQ7b"
      }
    },
    {
      "cell_type": "markdown",
      "source": [
        "### A\n",
        "Split data into X and Y."
      ],
      "metadata": {
        "id": "AYPMciFEKSUc"
      }
    },
    {
      "cell_type": "code",
      "source": [
        "X = vehicle.drop([\"class\"], axis=1)\n",
        "Y = vehicle[\"class\"]\n",
        "\n",
        "X_train, X_test, Y_train, Y_test = train_test_split(X, Y, random_state=42, stratify=Y)"
      ],
      "metadata": {
        "id": "2HXP0qH7KK2w"
      },
      "execution_count": 46,
      "outputs": []
    },
    {
      "cell_type": "markdown",
      "source": [
        "### B\n",
        "Standardizing the data."
      ],
      "metadata": {
        "id": "PMLYS7TKKmEs"
      }
    },
    {
      "cell_type": "code",
      "source": [
        "X_scaled = X.apply(zscore)"
      ],
      "metadata": {
        "id": "6uJPuc6JKlB1"
      },
      "execution_count": 47,
      "outputs": []
    },
    {
      "cell_type": "markdown",
      "source": [
        "## 3"
      ],
      "metadata": {
        "id": "wvFe0hovKvOx"
      }
    },
    {
      "cell_type": "markdown",
      "source": [
        "### A\n",
        "Train a base classification model using SVM."
      ],
      "metadata": {
        "id": "OQIdyW-ALM0Y"
      }
    },
    {
      "cell_type": "code",
      "source": [
        "svm_base = SVC()"
      ],
      "metadata": {
        "id": "f7IhDB19KuTV"
      },
      "execution_count": 48,
      "outputs": []
    },
    {
      "cell_type": "code",
      "source": [
        "svm_base.fit(X_train, Y_train)"
      ],
      "metadata": {
        "colab": {
          "base_uri": "https://localhost:8080/"
        },
        "id": "MDsGoCTULSzs",
        "outputId": "0ba68142-4f8b-43de-be07-689020b9adf8"
      },
      "execution_count": 49,
      "outputs": [
        {
          "output_type": "execute_result",
          "data": {
            "text/plain": [
              "SVC()"
            ]
          },
          "metadata": {},
          "execution_count": 49
        }
      ]
    },
    {
      "cell_type": "code",
      "source": [
        "y_svm_base_pred = svm_base.predict(X_train)"
      ],
      "metadata": {
        "id": "ARZt3iLrM4X2"
      },
      "execution_count": 50,
      "outputs": []
    },
    {
      "cell_type": "markdown",
      "source": [
        "### B\n",
        "Print all data metrics related to above model."
      ],
      "metadata": {
        "id": "zA7M6Z8hNCty"
      }
    },
    {
      "cell_type": "code",
      "source": [
        "print(classification_report(Y_train, y_svm_base_pred))"
      ],
      "metadata": {
        "colab": {
          "base_uri": "https://localhost:8080/"
        },
        "id": "sGUOxJhnNAzT",
        "outputId": "9e1336a4-6d5c-477b-8fa5-26a7fc68a199"
      },
      "execution_count": 51,
      "outputs": [
        {
          "output_type": "stream",
          "name": "stdout",
          "text": [
            "              precision    recall  f1-score   support\n",
            "\n",
            "         bus       1.00      0.07      0.14       163\n",
            "         car       0.55      0.90      0.69       322\n",
            "         van       0.52      0.33      0.40       149\n",
            "\n",
            "    accuracy                           0.56       634\n",
            "   macro avg       0.69      0.44      0.41       634\n",
            "weighted avg       0.66      0.56      0.48       634\n",
            "\n"
          ]
        }
      ]
    },
    {
      "cell_type": "markdown",
      "source": [
        "### C\n",
        "Applying PCA to 10 components."
      ],
      "metadata": {
        "id": "ysnB2FRokGTU"
      }
    },
    {
      "cell_type": "code",
      "source": [
        "X_scaled.shape"
      ],
      "metadata": {
        "colab": {
          "base_uri": "https://localhost:8080/"
        },
        "id": "5N93admPtjCg",
        "outputId": "f1471810-3a46-420c-da93-813a0bd1bac0"
      },
      "execution_count": 52,
      "outputs": [
        {
          "output_type": "execute_result",
          "data": {
            "text/plain": [
              "(846, 18)"
            ]
          },
          "metadata": {},
          "execution_count": 52
        }
      ]
    },
    {
      "cell_type": "code",
      "source": [
        "pca_10 = PCA(n_components=10)\n",
        "pca_10.fit(X_scaled)"
      ],
      "metadata": {
        "colab": {
          "base_uri": "https://localhost:8080/"
        },
        "id": "2gA3goZQNOLG",
        "outputId": "2d9fd6c7-48c3-4101-bf34-999ac97621be"
      },
      "execution_count": 53,
      "outputs": [
        {
          "output_type": "execute_result",
          "data": {
            "text/plain": [
              "PCA(n_components=10)"
            ]
          },
          "metadata": {},
          "execution_count": 53
        }
      ]
    },
    {
      "cell_type": "code",
      "source": [
        "np.cumsum(pca_10.explained_variance_ratio_)"
      ],
      "metadata": {
        "colab": {
          "base_uri": "https://localhost:8080/"
        },
        "id": "_I6lZTiv9WOw",
        "outputId": "22e9c0dd-4b7e-43eb-c972-45978cf355e0"
      },
      "execution_count": 54,
      "outputs": [
        {
          "output_type": "execute_result",
          "data": {
            "text/plain": [
              "array([0.2238078 , 0.37275436, 0.45386493, 0.52288034, 0.5844719 ,\n",
              "       0.63845724, 0.68733673, 0.73254595, 0.77392134, 0.81124047])"
            ]
          },
          "metadata": {},
          "execution_count": 54
        }
      ]
    },
    {
      "cell_type": "markdown",
      "source": [
        "### D\n",
        "Visualizing Cumulative Variance Explained with number of components."
      ],
      "metadata": {
        "id": "ILsQuj0zlzpz"
      }
    },
    {
      "cell_type": "code",
      "source": [
        "pca_all = PCA(n_components=18)\n",
        "pca_all.fit(X_scaled)"
      ],
      "metadata": {
        "colab": {
          "base_uri": "https://localhost:8080/"
        },
        "id": "zjgEl0hC6IvK",
        "outputId": "b718dfd9-be64-40c6-aba3-f77c023b04c8"
      },
      "execution_count": 55,
      "outputs": [
        {
          "output_type": "execute_result",
          "data": {
            "text/plain": [
              "PCA(n_components=18)"
            ]
          },
          "metadata": {},
          "execution_count": 55
        }
      ]
    },
    {
      "cell_type": "code",
      "source": [
        "np.cumsum(pca_all.explained_variance_ratio_)"
      ],
      "metadata": {
        "colab": {
          "base_uri": "https://localhost:8080/"
        },
        "id": "BwY48qFEtbUd",
        "outputId": "7bd59786-ae04-43ee-a1aa-ef1e2dc16817"
      },
      "execution_count": 56,
      "outputs": [
        {
          "output_type": "execute_result",
          "data": {
            "text/plain": [
              "array([0.2238078 , 0.37275436, 0.45386493, 0.52288034, 0.5844719 ,\n",
              "       0.63845724, 0.68733673, 0.73254595, 0.77392134, 0.81124047,\n",
              "       0.84504518, 0.87638758, 0.90514869, 0.93147041, 0.95626173,\n",
              "       0.97638785, 0.99108571, 1.        ])"
            ]
          },
          "metadata": {},
          "execution_count": 56
        }
      ]
    },
    {
      "cell_type": "code",
      "source": [
        "pca_all.explained_variance_ratio_"
      ],
      "metadata": {
        "colab": {
          "base_uri": "https://localhost:8080/"
        },
        "id": "rwQMnV44Thf2",
        "outputId": "945f8f9b-037a-4497-a03f-e7b2f1d52e15"
      },
      "execution_count": 57,
      "outputs": [
        {
          "output_type": "execute_result",
          "data": {
            "text/plain": [
              "array([0.2238078 , 0.14894656, 0.08111057, 0.0690154 , 0.06159156,\n",
              "       0.05398534, 0.0488795 , 0.04520921, 0.04137539, 0.03731913,\n",
              "       0.03380471, 0.0313424 , 0.0287611 , 0.02632173, 0.02479131,\n",
              "       0.02012612, 0.01469787, 0.00891429])"
            ]
          },
          "metadata": {},
          "execution_count": 57
        }
      ]
    },
    {
      "cell_type": "code",
      "source": [
        "plt.figure(figsize=(10, 7))\n",
        "plt.step(x=list(range(1, 19)), y=np.cumsum(pca_all.explained_variance_ratio_), where=\"mid\")\n",
        "plt.xlabel(\"eigen value\")\n",
        "plt.ylabel(\"Cumulative sum\")\n",
        "plt.xticks(list(range(1, 19)))\n",
        "plt.show()"
      ],
      "metadata": {
        "colab": {
          "base_uri": "https://localhost:8080/",
          "height": 442
        },
        "id": "QVpVXJzVlyRy",
        "outputId": "17a04f7c-8653-4b3b-e806-ae5d84290641"
      },
      "execution_count": 58,
      "outputs": [
        {
          "output_type": "display_data",
          "data": {
            "text/plain": [
              "<Figure size 720x504 with 1 Axes>"
            ],
            "image/png": "[encoded data removed]"
          },
          "metadata": {
            "needs_background": "light"
          }
        }
      ]
    },
    {
      "cell_type": "markdown",
      "source": [
        "### E\n",
        "Drawing a horizontal line where cumulative is 90%."
      ],
      "metadata": {
        "id": "4TkdnT8G7HON"
      }
    },
    {
      "cell_type": "code",
      "source": [
        "plt.figure(figsize=(10, 7))\n",
        "plt.step(x=list(range(1, 19)), y=np.cumsum(pca_all.explained_variance_ratio_), where=\"mid\")\n",
        "plt.axhline(y=0.9, color='b')\n",
        "plt.axvline(x = 13, color='r')\n",
        "plt.xlabel(\"eigen value\")\n",
        "plt.ylabel(\"Cumulative sum\")\n",
        "plt.xticks(list(range(1, 19)))\n",
        "plt.show()"
      ],
      "metadata": {
        "colab": {
          "base_uri": "https://localhost:8080/",
          "height": 442
        },
        "outputId": "987d5d9d-eed1-4c8d-9503-922a2ab28def",
        "id": "cbxSUPr37Anv"
      },
      "execution_count": 59,
      "outputs": [
        {
          "output_type": "display_data",
          "data": {
            "text/plain": [
              "<Figure size 720x504 with 1 Axes>"
            ],
            "image/png": "[encoded data removed]"
          },
          "metadata": {
            "needs_background": "light"
          }
        }
      ]
    },
    {
      "cell_type": "markdown",
      "source": [
        "So this horizontal line corresponds to 13 components."
      ],
      "metadata": {
        "id": "TNwrhn6O-gF9"
      }
    },
    {
      "cell_type": "markdown",
      "source": [
        "### F\n",
        "Apply PCA to data. This time selecting minimum components with 90% or above variance."
      ],
      "metadata": {
        "id": "dl6Ty71eQR7o"
      }
    },
    {
      "cell_type": "code",
      "source": [
        "pca_13 = PCA(n_components=13)\n",
        "pca_output = pca_13.fit_transform(X_scaled)"
      ],
      "metadata": {
        "id": "3ETQu6Ym-l88"
      },
      "execution_count": 60,
      "outputs": []
    },
    {
      "cell_type": "markdown",
      "source": [
        "### G\n",
        "Fitting a SVM model on principal components selected from above steps."
      ],
      "metadata": {
        "id": "dqkiiL--17Yx"
      }
    },
    {
      "cell_type": "code",
      "source": [
        "X_train_pca, X_test_pca, Y_train_pca, Y_test_pca = train_test_split(pca_output, Y, random_state=42, stratify=Y)"
      ],
      "metadata": {
        "id": "GTjIDJpp4Ul5"
      },
      "execution_count": 61,
      "outputs": []
    },
    {
      "cell_type": "code",
      "source": [
        "svm_comp = SVC()\n",
        "svm_comp.fit(X_train_pca, Y_train_pca)"
      ],
      "metadata": {
        "colab": {
          "base_uri": "https://localhost:8080/"
        },
        "id": "GgTPHXSJ0dJo",
        "outputId": "b886a0e2-9724-448c-8da9-794f42950713"
      },
      "execution_count": 62,
      "outputs": [
        {
          "output_type": "execute_result",
          "data": {
            "text/plain": [
              "SVC()"
            ]
          },
          "metadata": {},
          "execution_count": 62
        }
      ]
    },
    {
      "cell_type": "markdown",
      "source": [
        "### H\n",
        "Printing classification report for above model."
      ],
      "metadata": {
        "id": "IoBuiqdl2iko"
      }
    },
    {
      "cell_type": "code",
      "source": [
        "y_svm_comp_pred = svm_comp.predict(X_train_pca)"
      ],
      "metadata": {
        "id": "ruWnQUdP2rCB"
      },
      "execution_count": 63,
      "outputs": []
    },
    {
      "cell_type": "code",
      "source": [
        "print(\"\\x1b[1;31mBefore PCA\\x1b[0m\")\n",
        "print(classification_report(Y_train, y_svm_base_pred))"
      ],
      "metadata": {
        "colab": {
          "base_uri": "https://localhost:8080/"
        },
        "id": "Mr852f_F25fE",
        "outputId": "a15784fb-fa8f-4e2a-b86f-a86f9d2705d1"
      },
      "execution_count": 64,
      "outputs": [
        {
          "output_type": "stream",
          "name": "stdout",
          "text": [
            "\u001b[1;31mBefore PCA\u001b[0m\n",
            "              precision    recall  f1-score   support\n",
            "\n",
            "         bus       1.00      0.07      0.14       163\n",
            "         car       0.55      0.90      0.69       322\n",
            "         van       0.52      0.33      0.40       149\n",
            "\n",
            "    accuracy                           0.56       634\n",
            "   macro avg       0.69      0.44      0.41       634\n",
            "weighted avg       0.66      0.56      0.48       634\n",
            "\n"
          ]
        }
      ]
    },
    {
      "cell_type": "code",
      "source": [
        "print(\"\\x1b[1;32mAfter PCA\\x1b[0m\")\n",
        "print(classification_report(Y_train_pca, y_svm_comp_pred))"
      ],
      "metadata": {
        "colab": {
          "base_uri": "https://localhost:8080/"
        },
        "id": "18So8OWf2dcL",
        "outputId": "f9a917e1-27d8-4144-caa8-8a3efdecacb6"
      },
      "execution_count": 65,
      "outputs": [
        {
          "output_type": "stream",
          "name": "stdout",
          "text": [
            "\u001b[1;32mAfter PCA\u001b[0m\n",
            "              precision    recall  f1-score   support\n",
            "\n",
            "         bus       0.90      0.22      0.35       163\n",
            "         car       0.59      0.97      0.73       322\n",
            "         van       0.79      0.35      0.48       149\n",
            "\n",
            "    accuracy                           0.63       634\n",
            "   macro avg       0.76      0.51      0.52       634\n",
            "weighted avg       0.72      0.63      0.58       634\n",
            "\n"
          ]
        }
      ]
    },
    {
      "cell_type": "markdown",
      "source": [
        "After applying PCA, we see that almost all performance metrics have increased by an appreciable amount."
      ],
      "metadata": {
        "id": "fT6fAVtR3xea"
      }
    },
    {
      "cell_type": "markdown",
      "source": [
        "## 4"
      ],
      "metadata": {
        "id": "oeWacHj03Ohe"
      }
    },
    {
      "cell_type": "markdown",
      "source": [
        "### A\n",
        "Train another SVM model and hypertune its parameters."
      ],
      "metadata": {
        "id": "7IH1wV1K69G9"
      }
    },
    {
      "cell_type": "code",
      "source": [
        "svm_tune = SVC()\n",
        "svm_tune.fit(X_train_pca, Y_train_pca)"
      ],
      "metadata": {
        "colab": {
          "base_uri": "https://localhost:8080/"
        },
        "id": "JUFHPlYP29eo",
        "outputId": "c23be007-32ee-4582-e737-c168bd0d97ed"
      },
      "execution_count": 66,
      "outputs": [
        {
          "output_type": "execute_result",
          "data": {
            "text/plain": [
              "SVC()"
            ]
          },
          "metadata": {},
          "execution_count": 66
        }
      ]
    },
    {
      "cell_type": "code",
      "source": [
        "param_grid_svm = {'C': [0.1, 1, 10, 100], \n",
        "              'gamma': [1, 0.1, 0.01, 0.001],\n",
        "              'kernel': ['rbf']} "
      ],
      "metadata": {
        "id": "-LGWcDEH6drj"
      },
      "execution_count": 67,
      "outputs": []
    },
    {
      "cell_type": "code",
      "source": [
        "grid_svm = GridSearchCV(svm_tune, param_grid_svm, refit = True, verbose = 3)\n",
        "grid_svm.fit(X_train_pca, Y_train_pca)"
      ],
      "metadata": {
        "colab": {
          "base_uri": "https://localhost:8080/"
        },
        "id": "7L9Va-dx7UeT",
        "outputId": "3426da78-9975-43e0-af52-273a5b917ef7"
      },
      "execution_count": 68,
      "outputs": [
        {
          "output_type": "stream",
          "name": "stdout",
          "text": [
            "Fitting 5 folds for each of 16 candidates, totalling 80 fits\n",
            "[CV 1/5] END ........C=0.1, gamma=1, kernel=rbf;, score=0.504 total time=   0.0s\n",
            "[CV 2/5] END ........C=0.1, gamma=1, kernel=rbf;, score=0.504 total time=   0.0s\n",
            "[CV 3/5] END ........C=0.1, gamma=1, kernel=rbf;, score=0.504 total time=   0.0s\n",
            "[CV 4/5] END ........C=0.1, gamma=1, kernel=rbf;, score=0.512 total time=   0.0s\n",
            "[CV 5/5] END ........C=0.1, gamma=1, kernel=rbf;, score=0.516 total time=   0.0s\n",
            "[CV 1/5] END ......C=0.1, gamma=0.1, kernel=rbf;, score=0.504 total time=   0.0s\n",
            "[CV 2/5] END ......C=0.1, gamma=0.1, kernel=rbf;, score=0.504 total time=   0.0s\n",
            "[CV 3/5] END ......C=0.1, gamma=0.1, kernel=rbf;, score=0.504 total time=   0.0s\n",
            "[CV 4/5] END ......C=0.1, gamma=0.1, kernel=rbf;, score=0.512 total time=   0.0s\n",
            "[CV 5/5] END ......C=0.1, gamma=0.1, kernel=rbf;, score=0.516 total time=   0.0s\n",
            "[CV 1/5] END .....C=0.1, gamma=0.01, kernel=rbf;, score=0.504 total time=   0.0s\n",
            "[CV 2/5] END .....C=0.1, gamma=0.01, kernel=rbf;, score=0.504 total time=   0.0s\n",
            "[CV 3/5] END .....C=0.1, gamma=0.01, kernel=rbf;, score=0.504 total time=   0.0s\n",
            "[CV 4/5] END .....C=0.1, gamma=0.01, kernel=rbf;, score=0.512 total time=   0.0s\n",
            "[CV 5/5] END .....C=0.1, gamma=0.01, kernel=rbf;, score=0.516 total time=   0.0s\n",
            "[CV 1/5] END ....C=0.1, gamma=0.001, kernel=rbf;, score=0.504 total time=   0.0s\n",
            "[CV 2/5] END ....C=0.1, gamma=0.001, kernel=rbf;, score=0.504 total time=   0.0s\n",
            "[CV 3/5] END ....C=0.1, gamma=0.001, kernel=rbf;, score=0.504 total time=   0.0s\n",
            "[CV 4/5] END ....C=0.1, gamma=0.001, kernel=rbf;, score=0.512 total time=   0.0s\n",
            "[CV 5/5] END ....C=0.1, gamma=0.001, kernel=rbf;, score=0.516 total time=   0.0s\n",
            "[CV 1/5] END ..........C=1, gamma=1, kernel=rbf;, score=0.543 total time=   0.0s\n",
            "[CV 2/5] END ..........C=1, gamma=1, kernel=rbf;, score=0.535 total time=   0.0s\n",
            "[CV 3/5] END ..........C=1, gamma=1, kernel=rbf;, score=0.559 total time=   0.0s\n",
            "[CV 4/5] END ..........C=1, gamma=1, kernel=rbf;, score=0.567 total time=   0.0s\n",
            "[CV 5/5] END ..........C=1, gamma=1, kernel=rbf;, score=0.492 total time=   0.0s\n",
            "[CV 1/5] END ........C=1, gamma=0.1, kernel=rbf;, score=0.543 total time=   0.0s\n",
            "[CV 2/5] END ........C=1, gamma=0.1, kernel=rbf;, score=0.535 total time=   0.0s\n",
            "[CV 3/5] END ........C=1, gamma=0.1, kernel=rbf;, score=0.598 total time=   0.0s\n",
            "[CV 4/5] END ........C=1, gamma=0.1, kernel=rbf;, score=0.575 total time=   0.0s\n",
            "[CV 5/5] END ........C=1, gamma=0.1, kernel=rbf;, score=0.587 total time=   0.0s\n",
            "[CV 1/5] END .......C=1, gamma=0.01, kernel=rbf;, score=0.528 total time=   0.0s\n",
            "[CV 2/5] END .......C=1, gamma=0.01, kernel=rbf;, score=0.535 total time=   0.0s\n",
            "[CV 3/5] END .......C=1, gamma=0.01, kernel=rbf;, score=0.535 total time=   0.0s\n",
            "[CV 4/5] END .......C=1, gamma=0.01, kernel=rbf;, score=0.520 total time=   0.0s\n",
            "[CV 5/5] END .......C=1, gamma=0.01, kernel=rbf;, score=0.548 total time=   0.0s\n",
            "[CV 1/5] END ......C=1, gamma=0.001, kernel=rbf;, score=0.512 total time=   0.0s\n",
            "[CV 2/5] END ......C=1, gamma=0.001, kernel=rbf;, score=0.512 total time=   0.0s\n",
            "[CV 3/5] END ......C=1, gamma=0.001, kernel=rbf;, score=0.504 total time=   0.0s\n",
            "[CV 4/5] END ......C=1, gamma=0.001, kernel=rbf;, score=0.520 total time=   0.0s\n",
            "[CV 5/5] END ......C=1, gamma=0.001, kernel=rbf;, score=0.516 total time=   0.0s\n",
            "[CV 1/5] END .........C=10, gamma=1, kernel=rbf;, score=0.528 total time=   0.0s\n",
            "[CV 2/5] END .........C=10, gamma=1, kernel=rbf;, score=0.535 total time=   0.0s\n",
            "[CV 3/5] END .........C=10, gamma=1, kernel=rbf;, score=0.551 total time=   0.0s\n",
            "[CV 4/5] END .........C=10, gamma=1, kernel=rbf;, score=0.567 total time=   0.0s\n",
            "[CV 5/5] END .........C=10, gamma=1, kernel=rbf;, score=0.468 total time=   0.0s\n",
            "[CV 1/5] END .......C=10, gamma=0.1, kernel=rbf;, score=0.559 total time=   0.0s\n",
            "[CV 2/5] END .......C=10, gamma=0.1, kernel=rbf;, score=0.551 total time=   0.0s\n",
            "[CV 3/5] END .......C=10, gamma=0.1, kernel=rbf;, score=0.591 total time=   0.0s\n",
            "[CV 4/5] END .......C=10, gamma=0.1, kernel=rbf;, score=0.551 total time=   0.0s\n",
            "[CV 5/5] END .......C=10, gamma=0.1, kernel=rbf;, score=0.556 total time=   0.0s\n",
            "[CV 1/5] END ......C=10, gamma=0.01, kernel=rbf;, score=0.551 total time=   0.0s\n",
            "[CV 2/5] END ......C=10, gamma=0.01, kernel=rbf;, score=0.559 total time=   0.0s\n",
            "[CV 3/5] END ......C=10, gamma=0.01, kernel=rbf;, score=0.583 total time=   0.0s\n",
            "[CV 4/5] END ......C=10, gamma=0.01, kernel=rbf;, score=0.559 total time=   0.0s\n",
            "[CV 5/5] END ......C=10, gamma=0.01, kernel=rbf;, score=0.571 total time=   0.0s\n",
            "[CV 1/5] END .....C=10, gamma=0.001, kernel=rbf;, score=0.528 total time=   0.0s\n",
            "[CV 2/5] END .....C=10, gamma=0.001, kernel=rbf;, score=0.551 total time=   0.0s\n",
            "[CV 3/5] END .....C=10, gamma=0.001, kernel=rbf;, score=0.512 total time=   0.0s\n",
            "[CV 4/5] END .....C=10, gamma=0.001, kernel=rbf;, score=0.520 total time=   0.0s\n",
            "[CV 5/5] END .....C=10, gamma=0.001, kernel=rbf;, score=0.516 total time=   0.0s\n",
            "[CV 1/5] END ........C=100, gamma=1, kernel=rbf;, score=0.520 total time=   0.0s\n",
            "[CV 2/5] END ........C=100, gamma=1, kernel=rbf;, score=0.512 total time=   0.0s\n",
            "[CV 3/5] END ........C=100, gamma=1, kernel=rbf;, score=0.551 total time=   0.0s\n",
            "[CV 4/5] END ........C=100, gamma=1, kernel=rbf;, score=0.567 total time=   0.0s\n",
            "[CV 5/5] END ........C=100, gamma=1, kernel=rbf;, score=0.460 total time=   0.0s\n",
            "[CV 1/5] END ......C=100, gamma=0.1, kernel=rbf;, score=0.567 total time=   0.0s\n",
            "[CV 2/5] END ......C=100, gamma=0.1, kernel=rbf;, score=0.543 total time=   0.0s\n",
            "[CV 3/5] END ......C=100, gamma=0.1, kernel=rbf;, score=0.559 total time=   0.0s\n",
            "[CV 4/5] END ......C=100, gamma=0.1, kernel=rbf;, score=0.575 total time=   0.1s\n",
            "[CV 5/5] END ......C=100, gamma=0.1, kernel=rbf;, score=0.532 total time=   0.0s\n",
            "[CV 1/5] END .....C=100, gamma=0.01, kernel=rbf;, score=0.559 total time=   0.0s\n",
            "[CV 2/5] END .....C=100, gamma=0.01, kernel=rbf;, score=0.528 total time=   0.0s\n",
            "[CV 3/5] END .....C=100, gamma=0.01, kernel=rbf;, score=0.591 total time=   0.0s\n",
            "[CV 4/5] END .....C=100, gamma=0.01, kernel=rbf;, score=0.591 total time=   0.0s\n",
            "[CV 5/5] END .....C=100, gamma=0.01, kernel=rbf;, score=0.556 total time=   0.0s\n",
            "[CV 1/5] END ....C=100, gamma=0.001, kernel=rbf;, score=0.528 total time=   0.0s\n",
            "[CV 2/5] END ....C=100, gamma=0.001, kernel=rbf;, score=0.543 total time=   0.0s\n",
            "[CV 3/5] END ....C=100, gamma=0.001, kernel=rbf;, score=0.551 total time=   0.0s\n",
            "[CV 4/5] END ....C=100, gamma=0.001, kernel=rbf;, score=0.535 total time=   0.0s\n",
            "[CV 5/5] END ....C=100, gamma=0.001, kernel=rbf;, score=0.548 total time=   0.0s\n"
          ]
        },
        {
          "output_type": "execute_result",
          "data": {
            "text/plain": [
              "GridSearchCV(estimator=SVC(),\n",
              "             param_grid={'C': [0.1, 1, 10, 100], 'gamma': [1, 0.1, 0.01, 0.001],\n",
              "                         'kernel': ['rbf']},\n",
              "             verbose=3)"
            ]
          },
          "metadata": {},
          "execution_count": 68
        }
      ]
    },
    {
      "cell_type": "markdown",
      "source": [
        "### B\n",
        "Sharing best Parameters observed from above step."
      ],
      "metadata": {
        "id": "Ry6xAPI578w5"
      }
    },
    {
      "cell_type": "code",
      "source": [
        "print(f\"\\x1B[1mBest score:\\x1B[0m {grid_svm.best_score_}\")\n",
        "print(f\"\\x1B[1mBest parameters:\\x1B[0m\\n {grid_svm.best_params_}\")\n",
        "print(f\"\\x1B[1mBest estimetor:\\x1B[0m\\n {grid_svm.best_estimator_}\")"
      ],
      "metadata": {
        "colab": {
          "base_uri": "https://localhost:8080/"
        },
        "id": "fagXV-vX7pts",
        "outputId": "1d8b67b9-d23b-478d-aafe-2a51ba92069d"
      },
      "execution_count": 69,
      "outputs": [
        {
          "output_type": "stream",
          "name": "stdout",
          "text": [
            "\u001b[1mBest score:\u001b[0m 0.5678540182477191\n",
            "\u001b[1mBest parameters:\u001b[0m\n",
            " {'C': 1, 'gamma': 0.1, 'kernel': 'rbf'}\n",
            "\u001b[1mBest estimetor:\u001b[0m\n",
            " SVC(C=1, gamma=0.1)\n"
          ]
        }
      ]
    },
    {
      "cell_type": "markdown",
      "source": [
        "### C\n",
        "Print performance metrics for train data and sharing insights."
      ],
      "metadata": {
        "id": "IQDEnP_58GBU"
      }
    },
    {
      "cell_type": "code",
      "source": [
        "y_svm_pca_tuned_pred = grid_svm.predict(X_train_pca)"
      ],
      "metadata": {
        "id": "Xuc2yBUm7zB0"
      },
      "execution_count": 70,
      "outputs": []
    },
    {
      "cell_type": "code",
      "source": [
        "print(\"\\x1b[1;35mBefore Hypertuning\\x1b[0m\")\n",
        "print(classification_report(Y_train_pca, y_svm_comp_pred))"
      ],
      "metadata": {
        "colab": {
          "base_uri": "https://localhost:8080/"
        },
        "id": "-_g0GST39WHK",
        "outputId": "9c6408e5-fc85-4e4e-ee07-782dcc3c50e9"
      },
      "execution_count": 71,
      "outputs": [
        {
          "output_type": "stream",
          "name": "stdout",
          "text": [
            "\u001b[1;35mBefore Hypertuning\u001b[0m\n",
            "              precision    recall  f1-score   support\n",
            "\n",
            "         bus       0.90      0.22      0.35       163\n",
            "         car       0.59      0.97      0.73       322\n",
            "         van       0.79      0.35      0.48       149\n",
            "\n",
            "    accuracy                           0.63       634\n",
            "   macro avg       0.76      0.51      0.52       634\n",
            "weighted avg       0.72      0.63      0.58       634\n",
            "\n"
          ]
        }
      ]
    },
    {
      "cell_type": "code",
      "source": [
        "print(\"\\x1b[1;33mAfter Hypertuning\\x1b[0m\")\n",
        "print(classification_report(Y_train_pca, y_svm_pca_tuned_pred))"
      ],
      "metadata": {
        "colab": {
          "base_uri": "https://localhost:8080/"
        },
        "id": "QSZktoRc9MbB",
        "outputId": "8652bd4d-3a67-4c3e-e3ef-393241780c5a"
      },
      "execution_count": 72,
      "outputs": [
        {
          "output_type": "stream",
          "name": "stdout",
          "text": [
            "\u001b[1;33mAfter Hypertuning\u001b[0m\n",
            "              precision    recall  f1-score   support\n",
            "\n",
            "         bus       0.95      0.23      0.37       163\n",
            "         car       0.60      0.95      0.74       322\n",
            "         van       0.72      0.42      0.53       149\n",
            "\n",
            "    accuracy                           0.64       634\n",
            "   macro avg       0.76      0.53      0.55       634\n",
            "weighted avg       0.72      0.64      0.60       634\n",
            "\n"
          ]
        }
      ]
    },
    {
      "cell_type": "markdown",
      "source": [
        "So after hypertuning, *overall accuracy of model has only increased by 1%, but we do see a significant improvement in other performance metrics, with the exception of the recall and precision of 'car' and 'van' respectively."
      ],
      "metadata": {
        "id": "KJOnifPp-Bo_"
      }
    },
    {
      "cell_type": "markdown",
      "source": [
        "## 5"
      ],
      "metadata": {
        "id": "85EVyNtp_KZe"
      }
    },
    {
      "cell_type": "markdown",
      "source": [
        "### A\n",
        "Explaining the prerequisites/assumptions of PCA."
      ],
      "metadata": {
        "id": "HceYVkhV_LuA"
      }
    },
    {
      "cell_type": "markdown",
      "source": [
        "1. There must be linearity in the data set, i.e. the variables combine in a linear manner to form the dataset. The variables exhibit relationships among themselves.\n",
        "2. PCA assumes that the principal component with high variance must be paid attention and the PCs with lower variance are disregarded as noise. \n",
        "3. All variables should be accessed on the same ratio level of measurement.\n",
        "4. Extreme values that deviate from other data points in any dataset, which are also called outliers, should be less.\n",
        "5. The feature set must be correlated and the reduced feature set after applying PCA will represent the original data set but in an effective way with fewer dimensions."
      ],
      "metadata": {
        "id": "sowpLJzU_WI-"
      }
    },
    {
      "cell_type": "markdown",
      "source": [
        "### B\n",
        "Advantages and disadvantages of PCA."
      ],
      "metadata": {
        "id": "NSmon71dSsOR"
      }
    },
    {
      "cell_type": "markdown",
      "source": [
        "Advantages:\n",
        "1. The PCA can counteract the issues of a high-dimensional data set.\n",
        "\n",
        "One of the main issues when analyzing a high-dimensional data set is the overfitting: this happens when there are too many variables in the data set. Using PCA to lower the dimensions of the data set can prevent such an overfit.\n",
        "\n",
        "2. Correlated features removed.\n",
        "\n",
        "It helps us to reduce a very large data set. This can be very useful if we need to run an algorithm through our data and/or visualize it. Otherwise, it would be very difficult to easily visualize all of our features.\n",
        "\n",
        "3. Speeds up other machine learning algorithms.\n",
        "\n",
        "When we use the principal components of the data set instead of all the variables and want to implement machine learning algorithms, this will help them to converge faster. With fewer features, the training time of the algorithms will decrease.\n",
        "\n",
        "4. Improves visualization.\n",
        "\n",
        "The PCA helps us to transform our data in high dimensions to a low dimensional data set, so we can visualize it a lot better.\n",
        "\n",
        "Disadvantages:\n",
        "\n",
        "1. Data normalization required before performing the PCA.\n",
        "\n",
        "The PCA algorithm identifies those directions in which the variance in the data is bigger. As the variance of a variable is measured on its own squared scale, before calculating the principal components all the variables should have a mean of 0 and a standard deviation of 1. Otherwise, those variables whose scale is bigger would dominate the PCA.\n",
        "\n",
        "2. We may lose some valuable information.\n",
        "\n",
        "Using the Principal Component Analysis can lead to some loss of information if we don’t select the right number of principal components that our data set and its variance needs.\n",
        "\n",
        "3. Major components may be difficult to understand.\n",
        "\n",
        "When we implement the Principal Component Analysis to our data set, the original features will be transformed into principal components: linear combinations of features of the original data. But which features, variables or characteristics are the most significant in the data set? This question can be difficult to answer after computing the PCA."
      ],
      "metadata": {
        "id": "hT8Ug15HSxq6"
      }
    },
    {
      "cell_type": "code",
      "source": [],
      "metadata": {
        "id": "ulooZoF89l_q"
      },
      "execution_count": 72,
      "outputs": []
    }
  ]
}